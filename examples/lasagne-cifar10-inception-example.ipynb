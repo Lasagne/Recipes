{
 "cells": [
  {
   "cell_type": "markdown",
   "metadata": {
    "collapsed": false
   },
   "source": [
    "The goal of this notebook is to have a completly self contained demo (training from scratch) for state of the art performance on CIFAR-10 to serve as a baseline. Sadly it is only at about 80% testing accuracy.\n",
    "\n",
    "Here I ported the MXNet Inception V3 CNN to Lasagne and Theano. It shuffles batches and stops after a fixed number of iterations.\n",
    "\n",
    "To run this demo you need to install theano and lasagne. As of right now the BatchNormLayer does not exist in the standard pip package so the development version is needed.\n",
    "\n",
    "    pip install theano\n",
    "    pip install lasagne\n",
    "    pip install --upgrade https://github.com/Lasagne/Lasagne/archive/master.zip\n",
    "\n",
    "This is based on a bunch of other code:\n",
    "https://github.com/jseppanen/cifar_lasagne/blob/master/cifar_lasagne.ipynb\n",
    "https://github.com/dmlc/mxnet/blob/master/example/image-classification/symbol_inception-bn-28-small.py\n",
    "\n",
    "To convert this notebook into a python script run `jupyter nbconvert --to python lasagne-cifar10-inception-example.ipynb`\n"
   ]
  },
  {
   "cell_type": "code",
   "execution_count": 2,
   "metadata": {
    "collapsed": false
   },
   "outputs": [
    {
     "name": "stdout",
     "output_type": "stream",
     "text": [
      "theano 0.8.2.dev-RELEASE\n",
      "lasagne 0.2.dev1\n"
     ]
    }
   ],
   "source": [
    "import theano, theano.tensor as T\n",
    "import numpy as np, matplotlib.pyplot as plt\n",
    "import os, time, random, sys\n",
    "notebook_start_time = time.time()\n",
    "\n",
    "import lasagne\n",
    "from lasagne.layers.normalization import BatchNormLayer\n",
    "from lasagne.layers import Conv2DLayer, InputLayer, ConcatLayer\n",
    "from lasagne.layers import DenseLayer, Pool2DLayer, FlattenLayer\n",
    "\n",
    "print \"theano\",theano.version.full_version\n",
    "print \"lasagne\",lasagne.__version__"
   ]
  },
  {
   "cell_type": "code",
   "execution_count": 3,
   "metadata": {
    "collapsed": false
   },
   "outputs": [],
   "source": [
    "#Set seed for random numbers:\n",
    "np.random.seed(1234)\n",
    "lasagne.random.set_rng(np.random.RandomState(1234))"
   ]
  },
  {
   "cell_type": "code",
   "execution_count": 4,
   "metadata": {
    "collapsed": false
   },
   "outputs": [
    {
     "name": "stdout",
     "output_type": "stream",
     "text": [
      "--2016-11-19 01:22:21--  http://www.cs.toronto.edu/~kriz/cifar-10-python.tar.gz\n",
      "Resolving www.cs.toronto.edu (www.cs.toronto.edu)... 128.100.3.30\n",
      "Connecting to www.cs.toronto.edu (www.cs.toronto.edu)|128.100.3.30|:80... connected.\n",
      "HTTP request sent, awaiting response... 416 Requested Range Not Satisfiable\n",
      "\n",
      "    The file is already fully retrieved; nothing to do.\n",
      "\n",
      "cifar-10-batches-py/\n",
      "cifar-10-batches-py/data_batch_4\n",
      "cifar-10-batches-py/readme.html\n",
      "cifar-10-batches-py/test_batch\n",
      "cifar-10-batches-py/data_batch_3\n",
      "cifar-10-batches-py/batches.meta\n",
      "cifar-10-batches-py/data_batch_2\n",
      "cifar-10-batches-py/data_batch_5\n",
      "cifar-10-batches-py/data_batch_1\n"
     ]
    }
   ],
   "source": [
    "##Uncomment these lines to fetch the dataset\n",
    "!wget -c http://www.cs.toronto.edu/~kriz/cifar-10-python.tar.gz\n",
    "!tar -xvf cifar-10-python.tar.gz"
   ]
  },
  {
   "cell_type": "code",
   "execution_count": 5,
   "metadata": {
    "collapsed": false
   },
   "outputs": [
    {
     "name": "stdout",
     "output_type": "stream",
     "text": [
      "x_train.shape: (50000, 3072)\n"
     ]
    }
   ],
   "source": [
    "data_dir_cifar10 = os.path.join(\".\", \"cifar-10-batches-py\")\n",
    "\n",
    "def one_hot(x, n):\n",
    "    x = np.array(x)\n",
    "    assert x.ndim == 1\n",
    "    return np.eye(n)[x]\n",
    "\n",
    "def _load_batch_cifar10(filename, dtype='float32'):\n",
    "    path = os.path.join(data_dir_cifar10, filename)\n",
    "    batch = np.load(path)\n",
    "    data = batch['data'] / 255.0 # scale between [0, 1]\n",
    "    labels = one_hot(batch['labels'], n=10) # convert labels to one-hot representation\n",
    "    return data.astype(dtype), labels.astype(dtype)\n",
    "\n",
    "def cifar10(dtype='float32', grayscale=True):\n",
    "    x_train = []\n",
    "    t_train = []\n",
    "    for k in xrange(5):\n",
    "        x, t = _load_batch_cifar10(\"data_batch_%d\" % (k + 1), dtype=dtype)\n",
    "        x_train.append(x)\n",
    "        t_train.append(t)\n",
    "\n",
    "    x_train = np.concatenate(x_train, axis=0)\n",
    "    t_train = np.concatenate(t_train, axis=0)\n",
    "\n",
    "    x_test, t_test = _load_batch_cifar10(\"test_batch\", dtype=dtype)\n",
    "\n",
    "    if grayscale:\n",
    "        x_train = _grayscale(x_train)\n",
    "        x_test = _grayscale(x_test)\n",
    "\n",
    "    return x_train, t_train, x_test, t_test\n",
    "\n",
    "# load data\n",
    "x_train, t_train, x_test, t_test = cifar10(dtype=theano.config.floatX,grayscale=False)\n",
    "labels_test = np.argmax(t_test, axis=1)\n",
    "\n",
    "print \"x_train.shape:\",x_train.shape\n",
    "\n",
    "# reshape data\n",
    "x_train = x_train.reshape((x_train.shape[0], 3, 32, 32))\n",
    "x_test = x_test.reshape((x_test.shape[0], 3, 32, 32))\n"
   ]
  },
  {
   "cell_type": "code",
   "execution_count": null,
   "metadata": {
    "collapsed": true
   },
   "outputs": [],
   "source": []
  },
  {
   "cell_type": "code",
   "execution_count": null,
   "metadata": {
    "collapsed": true
   },
   "outputs": [],
   "source": []
  },
  {
   "cell_type": "code",
   "execution_count": 6,
   "metadata": {
    "collapsed": false
   },
   "outputs": [
    {
     "data": {
      "text/plain": [
       "<matplotlib.image.AxesImage at 0x7f007a831250>"
      ]
     },
     "execution_count": 6,
     "metadata": {},
     "output_type": "execute_result"
    },
    {
     "data": {
      "image/png": "[encoded data removed]",
      "text/plain": [
       "<matplotlib.figure.Figure at 0x7f007cb32e50>"
      ]
     },
     "metadata": {},
     "output_type": "display_data"
    }
   ],
   "source": [
    "%matplotlib inline\n",
    "plt.rcParams['figure.figsize'] = (10, 3)\n",
    "\n",
    "a  = np.rollaxis(np.rollaxis(x_train[0],2,0),2,0)\n",
    "plt.imshow(a,interpolation='none')"
   ]
  },
  {
   "cell_type": "code",
   "execution_count": null,
   "metadata": {
    "collapsed": true
   },
   "outputs": [],
   "source": []
  },
  {
   "cell_type": "code",
   "execution_count": 7,
   "metadata": {
    "collapsed": false
   },
   "outputs": [],
   "source": [
    "input_var = T.tensor4('inputs')\n",
    "\n",
    "input_shape = (None, 3, 32, 32)\n",
    "network = InputLayer(shape=input_shape, input_var=input_var)\n",
    "\n",
    "# from MXNet \n",
    "def ConvFactory(data, num_filter, filter_size, stride=(1,1), pad=(0, 0)):\n",
    "    data = BatchNormLayer(Conv2DLayer(\n",
    "        data, num_filters=num_filter,\n",
    "        filter_size=filter_size,\n",
    "        stride=stride, pad=pad,\n",
    "        nonlinearity=lasagne.nonlinearities.rectify,\n",
    "        W=lasagne.init.GlorotUniform(gain='relu')))\n",
    "    return data\n",
    "\n",
    "def DownsampleFactory(data, ch_3x3):\n",
    "    conv = ConvFactory(data=data, filter_size=(3, 3), stride=(2, 2), num_filter=ch_3x3, pad=(1, 1))\n",
    "    pool = Pool2DLayer(data, pool_size=3, stride=(2, 2), pad=(1, 1), mode='max')\n",
    "    concat = ConcatLayer([conv, pool])\n",
    "    return concat\n",
    "\n",
    "def SimpleFactory(data, ch_1x1, ch_3x3):\n",
    "    conv1x1 = ConvFactory(data=data, filter_size=(1, 1), pad=(0, 0), num_filter=ch_1x1)\n",
    "    conv3x3 = ConvFactory(data=data, filter_size=(3, 3), pad=(1, 1), num_filter=ch_3x3) \n",
    "    concat = ConcatLayer([conv1x1, conv3x3])\n",
    "    return concat\n",
    "        \n",
    "def get_symbol(network, num_classes = 10):\n",
    "    conv1 = ConvFactory(data=network, filter_size=(3,3), pad=(1,1), num_filter=96)\n",
    "    in3a = SimpleFactory(conv1, 32, 32)\n",
    "    in3b = SimpleFactory(in3a, 32, 48)\n",
    "    in3c = DownsampleFactory(in3b, 80)\n",
    "    in4a = SimpleFactory(in3c, 112, 48)\n",
    "    in4b = SimpleFactory(in4a, 96, 64)\n",
    "    in4c = SimpleFactory(in4b, 80, 80)\n",
    "    in4d = SimpleFactory(in4c, 48, 96)\n",
    "    in4e = DownsampleFactory(in4d, 96)\n",
    "    in5a = SimpleFactory(in4e, 176, 160)\n",
    "    in5b = SimpleFactory(in5a, 176, 160)\n",
    "    pool = Pool2DLayer(in5b, pool_size=7, stride=1, pad=1, mode='average_exc_pad')\n",
    "    \n",
    "    flatten = FlattenLayer(pool)\n",
    "    dense = DenseLayer(flatten, num_units=num_classes, nonlinearity=lasagne.nonlinearities.rectify)\n",
    "    out = DenseLayer(dense, num_units=num_classes, nonlinearity=lasagne.nonlinearities.softmax)\n",
    "    \n",
    "    return out\n",
    "\n",
    "network = get_symbol(network)"
   ]
  },
  {
   "cell_type": "code",
   "execution_count": 8,
   "metadata": {
    "collapsed": false
   },
   "outputs": [
    {
     "name": "stdout",
     "output_type": "stream",
     "text": [
      "input_shape: (None, 3, 32, 32) -> output_shape: (None, 10)\n"
     ]
    }
   ],
   "source": [
    "output_shape = lasagne.layers.get_output_shape(network)\n",
    "print \"input_shape:\",input_shape,\"-> output_shape:\",output_shape\n",
    "sys.stdout.flush()"
   ]
  },
  {
   "cell_type": "code",
   "execution_count": null,
   "metadata": {
    "collapsed": false
   },
   "outputs": [],
   "source": []
  },
  {
   "cell_type": "code",
   "execution_count": 9,
   "metadata": {
    "collapsed": false
   },
   "outputs": [
    {
     "name": "stdout",
     "output_type": "stream",
     "text": [
      "DONE building output functions\n"
     ]
    }
   ],
   "source": [
    "#Output functions\n",
    "output = lasagne.layers.get_output(network)\n",
    "y = T.argmax(output, axis=1)\n",
    "f_predict = theano.function([input_var], y)\n",
    "print \"DONE building output functions\""
   ]
  },
  {
   "cell_type": "code",
   "execution_count": 10,
   "metadata": {
    "collapsed": false
   },
   "outputs": [
    {
     "name": "stdout",
     "output_type": "stream",
     "text": [
      "DONE building training functions\n"
     ]
    }
   ],
   "source": [
    "#Training function\n",
    "target_var = T.matrix('target')\n",
    "loss = lasagne.objectives.squared_error(output, target_var)\n",
    "loss = loss.mean()\n",
    "\n",
    "lr = theano.shared(np.array(0, dtype=theano.config.floatX))\n",
    "params = lasagne.layers.get_all_params(network, trainable=True)\n",
    "updates = lasagne.updates.adam(loss, params, learning_rate=lr)\n",
    "#updates = lasagne.updates.nesterov_momentum(loss, params, learning_rate=lr, momentum=0.9)\n",
    "\n",
    "f_train = theano.function([input_var, target_var], loss, updates=updates)\n",
    "print \"DONE building training functions\""
   ]
  },
  {
   "cell_type": "code",
   "execution_count": null,
   "metadata": {
    "collapsed": false
   },
   "outputs": [],
   "source": []
  },
  {
   "cell_type": "code",
   "execution_count": 11,
   "metadata": {
    "collapsed": false
   },
   "outputs": [
    {
     "name": "stdout",
     "output_type": "stream",
     "text": [
      "batch_size: 512\n",
      "lr reduced: 0.000900000042748\n",
      "iteration: 0, trainerror: 0.06596, accuracy: 0.60590, seconds: 129\n",
      "iteration: 1, trainerror: 0.04510, accuracy: 0.70870, seconds: 131\n",
      "iteration: 2, trainerror: 0.03566, accuracy: 0.75910, seconds: 131\n",
      "iteration: 3, trainerror: 0.02800, accuracy: 0.77980, seconds: 131\n",
      "iteration: 4, trainerror: 0.02283, accuracy: 0.80120, seconds: 131\n",
      "lr reduced: 0.000810000055935\n",
      "iteration: 5, trainerror: 0.01832, accuracy: 0.81340, seconds: 131\n",
      "iteration: 6, trainerror: 0.01457, accuracy: 0.81830, seconds: 131\n",
      "iteration: 7, trainerror: 0.01209, accuracy: 0.82250, seconds: 131\n",
      "iteration: 8, trainerror: 0.01075, accuracy: 0.82860, seconds: 131\n",
      "iteration: 9, trainerror: 0.00894, accuracy: 0.82930, seconds: 131\n",
      "lr reduced: 0.000729000079446\n",
      "iteration: 10, trainerror: 0.00689, accuracy: 0.83980, seconds: 131\n",
      "iteration: 11, trainerror: 0.00527, accuracy: 0.83270, seconds: 131\n",
      "iteration: 12, trainerror: 0.00439, accuracy: 0.83600, seconds: 132\n",
      "iteration: 13, trainerror: 0.00407, accuracy: 0.83690, seconds: 131\n",
      "iteration: 14, trainerror: 0.00410, accuracy: 0.83910, seconds: 131\n",
      "lr reduced: 0.000656100048218\n",
      "iteration: 15, trainerror: 0.00331, accuracy: 0.84430, seconds: 131\n",
      "iteration: 16, trainerror: 0.00248, accuracy: 0.84120, seconds: 131\n",
      "iteration: 17, trainerror: 0.00230, accuracy: 0.84440, seconds: 131\n",
      "iteration: 18, trainerror: 0.00218, accuracy: 0.84160, seconds: 131\n",
      "iteration: 19, trainerror: 0.00242, accuracy: 0.84230, seconds: 131\n"
     ]
    }
   ],
   "source": [
    "# train model\n",
    "lr.set_value(0.001)\n",
    "batch_size = 2**9\n",
    "print \"batch_size:\",batch_size\n",
    "\n",
    "stats = []\n",
    "for i in range(0,20):\n",
    "    start_time = time.time()\n",
    "    trainerror = []\n",
    "    \n",
    "    #Decrease learning rate!\n",
    "    if (i % 5) == 0:\n",
    "        lr.set_value((lr.get_value()*0.9).astype(theano.config.floatX))\n",
    "        print \"lr reduced:\", lr.get_value()\n",
    "    \n",
    "    #Shuffle batches!\n",
    "    order = range(0,len(x_train))\n",
    "    random.shuffle(order)\n",
    "    x_train = x_train[order]\n",
    "    t_train = t_train[order]\n",
    "    \n",
    "    #Start batch training!\n",
    "    for start in range(0, len(x_train), batch_size):\n",
    "        x_batch = x_train[start:start + batch_size]\n",
    "        t_batch = t_train[start:start + batch_size]\n",
    "        cost = f_train(x_batch, t_batch)\n",
    "        trainerror.append(cost)\n",
    "        #print \"batch error: %.5f\" % cost\n",
    "    elapsed_time = time.time() - start_time\n",
    "    \n",
    "    ## Calculate test error (just for logging)\n",
    "    pred = np.array([])\n",
    "    for start in range(0, len(x_test), batch_size):\n",
    "        pred = np.append(pred,f_predict(x_test[start:start + batch_size]))\n",
    "    testacc = np.mean(pred == labels_test)\n",
    "    \n",
    "    epocherror = np.mean(trainerror)\n",
    "    stats.append((testacc,epocherror))\n",
    "    \n",
    "    print \"iteration: %d, trainerror: %.5f, accuracy: %.5f, seconds: %d\" % (i, epocherror,testacc, elapsed_time)\n"
   ]
  },
  {
   "cell_type": "code",
   "execution_count": 12,
   "metadata": {
    "collapsed": false
   },
   "outputs": [
    {
     "data": {
      "text/plain": [
       "[<matplotlib.lines.Line2D at 0x7f0051c2a390>]"
      ]
     },
     "execution_count": 12,
     "metadata": {},
     "output_type": "execute_result"
    },
    {
     "data": {
      "image/png": "[encoded data removed]",
      "text/plain": [
       "<matplotlib.figure.Figure at 0x7f00762254d0>"
      ]
     },
     "metadata": {},
     "output_type": "display_data"
    }
   ],
   "source": [
    "statsnp = np.rollaxis(np.asarray(stats),0,2)\n",
    "plt.plot(statsnp[1])"
   ]
  },
  {
   "cell_type": "code",
   "execution_count": 13,
   "metadata": {
    "collapsed": false,
    "scrolled": false
   },
   "outputs": [
    {
     "data": {
      "text/plain": [
       "[<matplotlib.lines.Line2D at 0x7f0051b64110>]"
      ]
     },
     "execution_count": 13,
     "metadata": {},
     "output_type": "execute_result"
    },
    {
     "data": {
      "image/png": "[encoded data removed]",
      "text/plain": [
       "<matplotlib.figure.Figure at 0x7f0051d0f410>"
      ]
     },
     "metadata": {},
     "output_type": "display_data"
    }
   ],
   "source": [
    "plt.plot(statsnp[0])"
   ]
  },
  {
   "cell_type": "code",
   "execution_count": 14,
   "metadata": {
    "collapsed": false
   },
   "outputs": [
    {
     "data": {
      "text/plain": [
       "('Max Testing Accuracy', 0.84440000000000004)"
      ]
     },
     "execution_count": 14,
     "metadata": {},
     "output_type": "execute_result"
    }
   ],
   "source": [
    "\"Max Testing Accuracy\", max(statsnp[0])"
   ]
  },
  {
   "cell_type": "code",
   "execution_count": 15,
   "metadata": {
    "collapsed": false
   },
   "outputs": [
    {
     "name": "stdout",
     "output_type": "stream",
     "text": [
      "Notebook took 48.0419564486 minutes\n"
     ]
    }
   ],
   "source": [
    "notebook_elapsed_time = time.time() - notebook_start_time\n",
    "print \"Notebook took\", notebook_elapsed_time/60.0, \"minutes\""
   ]
  },
  {
   "cell_type": "code",
   "execution_count": null,
   "metadata": {
    "collapsed": false
   },
   "outputs": [],
   "source": []
  },
  {
   "cell_type": "code",
   "execution_count": null,
   "metadata": {
    "collapsed": true
   },
   "outputs": [],
   "source": []
  },
  {
   "cell_type": "code",
   "execution_count": null,
   "metadata": {
    "collapsed": true
   },
   "outputs": [],
   "source": []
  },
  {
   "cell_type": "code",
   "execution_count": null,
   "metadata": {
    "collapsed": true
   },
   "outputs": [],
   "source": []
  }
 ],
 "metadata": {
  "kernelspec": {
   "display_name": "Python 2",
   "language": "python",
   "name": "python2"
  },
  "language_info": {
   "codemirror_mode": {
    "name": "ipython",
    "version": 2
   },
   "file_extension": ".py",
   "mimetype": "text/x-python",
   "name": "python",
   "nbconvert_exporter": "python",
   "pygments_lexer": "ipython2",
   "version": "2.7.12"
  }
 },
 "nbformat": 4,
 "nbformat_minor": 1
}
