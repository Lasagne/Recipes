{
 "cells": [
  {
   "cell_type": "code",
   "execution_count": 55,
   "metadata": {
    "collapsed": false
   },
   "outputs": [],
   "source": [
    "import theano\n",
    "from theano import tensor as T\n",
    "import lasagne\n",
    "from lasagne.layers import *\n",
    "from lasagne.nonlinearities import *\n",
    "from lasagne.objectives import *\n",
    "from lasagne.regularization import *\n",
    "from lasagne.random import get_rng\n",
    "from lasagne.updates import *\n",
    "from lasagne.init import *\n",
    "from theano.sandbox.rng_mrg import MRG_RandomStreams as RandomStreams\n",
    "from urllib import urlretrieve\n",
    "import cPickle as pickle\n",
    "import gzip\n",
    "import imp\n",
    "import os\n",
    "from time import time"
   ]
  },
  {
   "cell_type": "code",
   "execution_count": 58,
   "metadata": {
    "collapsed": false
   },
   "outputs": [],
   "source": [
    "class BinomialDropLayer(Layer):\n",
    "    def __init__(self, incoming, nonlinearity=rectify, survival_p=0.5,\n",
    "                 **kwargs):\n",
    "        super(BinomialDropLayer, self).__init__(incoming, **kwargs)\n",
    "        self.nonlinearity = (identity if nonlinearity is None\n",
    "                             else nonlinearity)\n",
    "        self._srng = RandomStreams(get_rng().randint(1, 2147462579))\n",
    "        self.p = 1-survival_p\n",
    "\n",
    "    def get_output_for(self, input, deterministic=False, **kwargs):\n",
    "        if deterministic:\n",
    "            return self.p*input\n",
    "        else:\n",
    "            #mask = self._srng.binomial(n=1, p=(self.p), size=(input.shape[0],),\n",
    "            #    dtype=input.dtype)\n",
    "            mask = T.zeros((input.shape[0],)) + self._srng.uniform( (1,), 0, 1)[0]\n",
    "            mask = mask.dimshuffle(0,'x','x','x')\n",
    "            return mask*input"
   ]
  },
  {
   "cell_type": "code",
   "execution_count": 59,
   "metadata": {
    "collapsed": true
   },
   "outputs": [],
   "source": [
    "class IfElseDropLayer(Layer):\n",
    "    def __init__(self, incoming, nonlinearity=rectify, survival_p=0.5,\n",
    "                 **kwargs):\n",
    "        super(IfElseDropLayer, self).__init__(incoming, **kwargs)\n",
    "        self.nonlinearity = (identity if nonlinearity is None\n",
    "                             else nonlinearity)\n",
    "        self._srng = RandomStreams(get_rng().randint(1, 2147462579))\n",
    "        self.p = 1-survival_p\n",
    "\n",
    "    def get_output_for(self, input, deterministic=False, **kwargs):\n",
    "        if deterministic:\n",
    "            return self.p*input\n",
    "        else:\n",
    "            return ifelse(\n",
    "                T.lt(self._srng.uniform( (1,), 0, 1)[0], self.p),\n",
    "                input,\n",
    "                T.zeros(input.shape)\n",
    "            )"
   ]
  },
  {
   "cell_type": "markdown",
   "metadata": {},
   "source": [
    "There is a difference between this residual block method and the one that is defined in [link]. When the number of filters is different to the layer's output shape (or the stride is different), instead of using a convolution to make things compatible, we use an average pooling with a pool size of 1 and a the defined stride, followed by (if necessary) adding extra zero-padded feature maps. This is because this is how the authors in [link] have defined it."
   ]
  },
  {
   "cell_type": "code",
   "execution_count": 38,
   "metadata": {
    "collapsed": false
   },
   "outputs": [
    {
     "data": {
      "text/plain": [
       "\"\\n\\nprint('Building model...')\\nmodel = nn.Sequential()\\n------> 3, 32,32\\nmodel:add(cudnn.SpatialConvolution(3, 16, 3,3, 1,1, 1,1)\\n            :init('weight', nninit.kaiming, {gain = 'relu'})\\n            :init('bias', nninit.constant, 0))\\nmodel:add(cudnn.SpatialBatchNormalization(16))\\nmodel:add(cudnn.ReLU(true))\\n------> 16, 32,32   First Group\\nfor i=1,opt.N do   addResidualDrop(model, nil, 16)   end\\n------> 32, 16,16   Second Group\\naddResidualDrop(model, nil, 16, 32, 2)\\nfor i=1,opt.N-1 do   addResidualDrop(model, nil, 32)   end\\n------> 64, 8,8     Third Group\\naddResidualDrop(model, nil, 32, 64, 2)\\nfor i=1,opt.N-1 do   addResidualDrop(model, nil, 64)   end\\n------> 10, 8,8     Pooling, Linear, Softmax\\nmodel:add(nn.SpatialAveragePooling(8,8)):add(nn.Reshape(64))\\nif opt.dataset == 'cifar10' or opt.dataset == 'svhn' then\\n  model:add(nn.Linear(64, 10))\\nelseif opt.dataset == 'cifar100' then\\n  model:add(nn.Linear(64, 100))\\nelse\\n  print('Invalid argument for dataset!')\\nend\\n\\n\\n\""
      ]
     },
     "execution_count": 38,
     "metadata": {},
     "output_type": "execute_result"
    }
   ],
   "source": [
    "\"\"\"\n",
    "\n",
    "print('Building model...')\n",
    "model = nn.Sequential()\n",
    "------> 3, 32,32\n",
    "model:add(cudnn.SpatialConvolution(3, 16, 3,3, 1,1, 1,1)\n",
    "            :init('weight', nninit.kaiming, {gain = 'relu'})\n",
    "            :init('bias', nninit.constant, 0))\n",
    "model:add(cudnn.SpatialBatchNormalization(16))\n",
    "model:add(cudnn.ReLU(true))\n",
    "------> 16, 32,32   First Group\n",
    "for i=1,opt.N do   addResidualDrop(model, nil, 16)   end\n",
    "------> 32, 16,16   Second Group\n",
    "addResidualDrop(model, nil, 16, 32, 2)\n",
    "for i=1,opt.N-1 do   addResidualDrop(model, nil, 32)   end\n",
    "------> 64, 8,8     Third Group\n",
    "addResidualDrop(model, nil, 32, 64, 2)\n",
    "for i=1,opt.N-1 do   addResidualDrop(model, nil, 64)   end\n",
    "------> 10, 8,8     Pooling, Linear, Softmax\n",
    "model:add(nn.SpatialAveragePooling(8,8)):add(nn.Reshape(64))\n",
    "if opt.dataset == 'cifar10' or opt.dataset == 'svhn' then\n",
    "  model:add(nn.Linear(64, 10))\n",
    "elseif opt.dataset == 'cifar100' then\n",
    "  model:add(nn.Linear(64, 100))\n",
    "else\n",
    "  print('Invalid argument for dataset!')\n",
    "end\n",
    "\n",
    "\n",
    "\"\"\""
   ]
  },
  {
   "cell_type": "code",
   "execution_count": 60,
   "metadata": {
    "collapsed": true
   },
   "outputs": [],
   "source": [
    "def residual_block(layer, num_filters, filter_size=3, stride=1, num_layers=2, survival_p=0.5):\n",
    "    #print \"input =\", layer.output_shape\n",
    "    conv = layer\n",
    "    if (num_filters != layer.output_shape[1]) or (stride != 1):\n",
    "        layer = Pool2DLayer(layer, pool_size=1, stride=stride, mode=\"average_inc_pad\")\n",
    "        diff = num_filters-layer.output_shape[1]\n",
    "        if diff % 2 == 0: \n",
    "            width_tp = ((diff/2, diff/2),)\n",
    "        else:\n",
    "            width_tp = (((diff/2)+1, diff/2),)\n",
    "        layer = pad(\n",
    "            layer, \n",
    "            batch_ndim=1, \n",
    "            width=width_tp\n",
    "        )\n",
    "        #print \"layer =\", layer.output_shape\n",
    "    for _ in range(num_layers):\n",
    "        conv = Conv2DLayer(conv, num_filters, filter_size, stride=stride, pad='same')\n",
    "        #print \"conv =\", conv.output_shape\n",
    "        stride = 1\n",
    "    nonlinearity = conv.nonlinearity\n",
    "    conv.nonlinearity = lasagne.nonlinearities.identity\n",
    "    conv = BinomialDropLayer(conv, survival_p=survival_p)\n",
    "    return NonlinearityLayer(ElemwiseSumLayer([conv, layer]), nonlinearity)"
   ]
  },
  {
   "cell_type": "code",
   "execution_count": 63,
   "metadata": {
    "collapsed": false
   },
   "outputs": [],
   "source": [
    "# architecture from:\n",
    "# https://github.com/yueatsprograms/Stochastic_Depth/blob/master/main.lua\n",
    "survival_p = 0.5\n",
    "layer = InputLayer( (None, 3, 32, 32) )\n",
    "layer = Conv2DLayer(layer, num_filters=16, filter_size=3, stride=1, pad='same')\n",
    "#layer = Pool2DLayer(layer, 2)\n",
    "for _ in range(18):\n",
    "    layer = residual_block(layer, 16, survival_p=survival_p)\n",
    "layer = residual_block(layer, 32, stride=2, survival_p=survival_p)\n",
    "for _ in range(18):\n",
    "    layer = residual_block(layer, 32, survival_p=survival_p)\n",
    "layer = residual_block(layer, 64, stride=2, survival_p=survival_p)\n",
    "for _ in range(18):\n",
    "    layer = residual_block(layer, 64, survival_p=survival_p)\n",
    "layer = Pool2DLayer(layer, pool_size=8, stride=1, mode=\"average_inc_pad\")\n",
    "layer = DenseLayer(layer, num_units=10, nonlinearity=softmax)"
   ]
  },
  {
   "cell_type": "code",
   "execution_count": 64,
   "metadata": {
    "collapsed": false
   },
   "outputs": [
    {
     "name": "stdout",
     "output_type": "stream",
     "text": [
      "<lasagne.layers.input.InputLayer object at 0x1204bc3d0> (None, 3, 32, 32)\n",
      "<lasagne.layers.conv.Conv2DLayer object at 0x117bb9bd0> (None, 16, 32, 32)\n",
      "<lasagne.layers.conv.Conv2DLayer object at 0x108d01b50> (None, 16, 32, 32)\n",
      "<lasagne.layers.conv.Conv2DLayer object at 0x108d019d0> (None, 16, 32, 32)\n",
      "<__main__.BinomialDropLayer object at 0x108d01790> (None, 16, 32, 32)\n",
      "<lasagne.layers.merge.ElemwiseSumLayer object at 0x108db9690> (None, 16, 32, 32)\n",
      "<lasagne.layers.special.NonlinearityLayer object at 0x108f208d0> (None, 16, 32, 32)\n",
      "<lasagne.layers.conv.Conv2DLayer object at 0x14a3a4550> (None, 16, 32, 32)\n",
      "<lasagne.layers.conv.Conv2DLayer object at 0x14a3a4850> (None, 16, 32, 32)\n",
      "<__main__.BinomialDropLayer object at 0x14a3a4d10> (None, 16, 32, 32)\n",
      "<lasagne.layers.merge.ElemwiseSumLayer object at 0x14a510110> (None, 16, 32, 32)\n",
      "<lasagne.layers.special.NonlinearityLayer object at 0x14a510750> (None, 16, 32, 32)\n",
      "<lasagne.layers.conv.Conv2DLayer object at 0x14a510c10> (None, 16, 32, 32)\n",
      "<lasagne.layers.conv.Conv2DLayer object at 0x14a510b50> (None, 16, 32, 32)\n",
      "<__main__.BinomialDropLayer object at 0x14a510050> (None, 16, 32, 32)\n",
      "<lasagne.layers.merge.ElemwiseSumLayer object at 0x147e24290> (None, 16, 32, 32)\n",
      "<lasagne.layers.special.NonlinearityLayer object at 0x147e24490> (None, 16, 32, 32)\n",
      "<lasagne.layers.conv.Conv2DLayer object at 0x11470bc10> (None, 16, 32, 32)\n",
      "<lasagne.layers.conv.Conv2DLayer object at 0x114185550> (None, 16, 32, 32)\n",
      "<__main__.BinomialDropLayer object at 0x147e24650> (None, 16, 32, 32)\n",
      "<lasagne.layers.merge.ElemwiseSumLayer object at 0x12049b290> (None, 16, 32, 32)\n",
      "<lasagne.layers.special.NonlinearityLayer object at 0x12049b250> (None, 16, 32, 32)\n",
      "<lasagne.layers.conv.Conv2DLayer object at 0x12049b890> (None, 16, 32, 32)\n",
      "<lasagne.layers.conv.Conv2DLayer object at 0x12049b790> (None, 16, 32, 32)\n",
      "<__main__.BinomialDropLayer object at 0x12049b750> (None, 16, 32, 32)\n",
      "<lasagne.layers.merge.ElemwiseSumLayer object at 0x1204bc250> (None, 16, 32, 32)\n",
      "<lasagne.layers.special.NonlinearityLayer object at 0x1204bc210> (None, 16, 32, 32)\n",
      "<lasagne.layers.conv.Conv2DLayer object at 0x1204bc290> (None, 16, 32, 32)\n",
      "<lasagne.layers.conv.Conv2DLayer object at 0x1204bcf90> (None, 16, 32, 32)\n",
      "<__main__.BinomialDropLayer object at 0x1204bc150> (None, 16, 32, 32)\n",
      "<lasagne.layers.merge.ElemwiseSumLayer object at 0x1204bae50> (None, 16, 32, 32)\n",
      "<lasagne.layers.special.NonlinearityLayer object at 0x1204baed0> (None, 16, 32, 32)\n",
      "<lasagne.layers.conv.Conv2DLayer object at 0x1204badd0> (None, 16, 32, 32)\n",
      "<lasagne.layers.conv.Conv2DLayer object at 0x1204bab90> (None, 16, 32, 32)\n",
      "<__main__.BinomialDropLayer object at 0x1204baf50> (None, 16, 32, 32)\n",
      "<lasagne.layers.merge.ElemwiseSumLayer object at 0x1204bad50> (None, 16, 32, 32)\n",
      "<lasagne.layers.special.NonlinearityLayer object at 0x1204ba910> (None, 16, 32, 32)\n",
      "<lasagne.layers.conv.Conv2DLayer object at 0x1204bad90> (None, 16, 32, 32)\n",
      "<lasagne.layers.conv.Conv2DLayer object at 0x1204bacd0> (None, 16, 32, 32)\n",
      "<__main__.BinomialDropLayer object at 0x1204ba8d0> (None, 16, 32, 32)\n",
      "<lasagne.layers.merge.ElemwiseSumLayer object at 0x1204ba610> (None, 16, 32, 32)\n",
      "<lasagne.layers.special.NonlinearityLayer object at 0x1204ba310> (None, 16, 32, 32)\n",
      "<lasagne.layers.conv.Conv2DLayer object at 0x1204ba210> (None, 16, 32, 32)\n",
      "<lasagne.layers.conv.Conv2DLayer object at 0x1204ba290> (None, 16, 32, 32)\n",
      "<__main__.BinomialDropLayer object at 0x1204ba5d0> (None, 16, 32, 32)\n",
      "<lasagne.layers.merge.ElemwiseSumLayer object at 0x120488990> (None, 16, 32, 32)\n",
      "<lasagne.layers.special.NonlinearityLayer object at 0x1204885d0> (None, 16, 32, 32)\n",
      "<lasagne.layers.conv.Conv2DLayer object at 0x1204bc5d0> (None, 16, 32, 32)\n",
      "<lasagne.layers.conv.Conv2DLayer object at 0x1204bc710> (None, 16, 32, 32)\n",
      "<__main__.BinomialDropLayer object at 0x1204bc650> (None, 16, 32, 32)\n",
      "<lasagne.layers.merge.ElemwiseSumLayer object at 0x1204bced0> (None, 16, 32, 32)\n",
      "<lasagne.layers.special.NonlinearityLayer object at 0x1204bcfd0> (None, 16, 32, 32)\n",
      "<lasagne.layers.conv.Conv2DLayer object at 0x1204bca50> (None, 16, 32, 32)\n",
      "<lasagne.layers.conv.Conv2DLayer object at 0x1204bcb10> (None, 16, 32, 32)\n",
      "<__main__.BinomialDropLayer object at 0x1204bce50> (None, 16, 32, 32)\n",
      "<lasagne.layers.merge.ElemwiseSumLayer object at 0x12049bc50> (None, 16, 32, 32)\n",
      "<lasagne.layers.special.NonlinearityLayer object at 0x12049be10> (None, 16, 32, 32)\n",
      "<lasagne.layers.conv.Conv2DLayer object at 0x12049bc90> (None, 16, 32, 32)\n",
      "<lasagne.layers.conv.Conv2DLayer object at 0x12049bd90> (None, 16, 32, 32)\n",
      "<__main__.BinomialDropLayer object at 0x12049b1d0> (None, 16, 32, 32)\n",
      "<lasagne.layers.merge.ElemwiseSumLayer object at 0x120488290> (None, 16, 32, 32)\n",
      "<lasagne.layers.special.NonlinearityLayer object at 0x120488e90> (None, 16, 32, 32)\n",
      "<lasagne.layers.conv.Conv2DLayer object at 0x120488a50> (None, 16, 32, 32)\n",
      "<lasagne.layers.conv.Conv2DLayer object at 0x120488f90> (None, 16, 32, 32)\n",
      "<__main__.BinomialDropLayer object at 0x1204882d0> (None, 16, 32, 32)\n",
      "<lasagne.layers.merge.ElemwiseSumLayer object at 0x120488210> (None, 16, 32, 32)\n",
      "<lasagne.layers.special.NonlinearityLayer object at 0x120488b50> (None, 16, 32, 32)\n",
      "<lasagne.layers.conv.Conv2DLayer object at 0x120488750> (None, 16, 32, 32)\n",
      "<lasagne.layers.conv.Conv2DLayer object at 0x120488bd0> (None, 16, 32, 32)\n",
      "<__main__.BinomialDropLayer object at 0x120488310> (None, 16, 32, 32)\n",
      "<lasagne.layers.merge.ElemwiseSumLayer object at 0x120488390> (None, 16, 32, 32)\n",
      "<lasagne.layers.special.NonlinearityLayer object at 0x120488350> (None, 16, 32, 32)\n",
      "<lasagne.layers.conv.Conv2DLayer object at 0x120175090> (None, 16, 32, 32)\n",
      "<lasagne.layers.conv.Conv2DLayer object at 0x120175590> (None, 16, 32, 32)\n",
      "<__main__.BinomialDropLayer object at 0x120175050> (None, 16, 32, 32)\n",
      "<lasagne.layers.merge.ElemwiseSumLayer object at 0x120175dd0> (None, 16, 32, 32)\n",
      "<lasagne.layers.special.NonlinearityLayer object at 0x120175f90> (None, 16, 32, 32)\n",
      "<lasagne.layers.conv.Conv2DLayer object at 0x120175910> (None, 16, 32, 32)\n",
      "<lasagne.layers.conv.Conv2DLayer object at 0x120175c90> (None, 16, 32, 32)\n",
      "<__main__.BinomialDropLayer object at 0x120175990> (None, 16, 32, 32)\n",
      "<lasagne.layers.merge.ElemwiseSumLayer object at 0x120175790> (None, 16, 32, 32)\n",
      "<lasagne.layers.special.NonlinearityLayer object at 0x1201756d0> (None, 16, 32, 32)\n",
      "<lasagne.layers.conv.Conv2DLayer object at 0x120175390> (None, 16, 32, 32)\n",
      "<lasagne.layers.conv.Conv2DLayer object at 0x1201753d0> (None, 16, 32, 32)\n",
      "<__main__.BinomialDropLayer object at 0x1201754d0> (None, 16, 32, 32)\n",
      "<lasagne.layers.merge.ElemwiseSumLayer object at 0x120160f10> (None, 16, 32, 32)\n",
      "<lasagne.layers.special.NonlinearityLayer object at 0x120160fd0> (None, 16, 32, 32)\n",
      "<lasagne.layers.conv.Conv2DLayer object at 0x120160b50> (None, 16, 32, 32)\n",
      "<lasagne.layers.conv.Conv2DLayer object at 0x120160c50> (None, 16, 32, 32)\n",
      "<__main__.BinomialDropLayer object at 0x120160f90> (None, 16, 32, 32)\n",
      "<lasagne.layers.merge.ElemwiseSumLayer object at 0x120160090> (None, 16, 32, 32)\n",
      "<lasagne.layers.special.NonlinearityLayer object at 0x120160e50> (None, 16, 32, 32)\n",
      "<lasagne.layers.conv.Conv2DLayer object at 0x1201604d0> (None, 32, 16, 16)\n",
      "<lasagne.layers.conv.Conv2DLayer object at 0x120160f50> (None, 32, 16, 16)\n",
      "<__main__.BinomialDropLayer object at 0x120160ed0> (None, 32, 16, 16)\n",
      "<lasagne.layers.pool.Pool2DLayer object at 0x127980c10> (None, 16, 16, 16)\n",
      "<lasagne.layers.shape.PadLayer object at 0x120160050> (None, 32, 16, 16)\n",
      "<lasagne.layers.merge.ElemwiseSumLayer object at 0x120160710> (None, 32, 16, 16)\n",
      "<lasagne.layers.special.NonlinearityLayer object at 0x120160250> (None, 32, 16, 16)\n",
      "<lasagne.layers.conv.Conv2DLayer object at 0x120160590> (None, 32, 16, 16)\n",
      "<lasagne.layers.conv.Conv2DLayer object at 0x120160310> (None, 32, 16, 16)\n",
      "<__main__.BinomialDropLayer object at 0x120160690> (None, 32, 16, 16)\n",
      "<lasagne.layers.merge.ElemwiseSumLayer object at 0x120145910> (None, 32, 16, 16)\n",
      "<lasagne.layers.special.NonlinearityLayer object at 0x120145990> (None, 32, 16, 16)\n",
      "<lasagne.layers.conv.Conv2DLayer object at 0x120145610> (None, 32, 16, 16)\n",
      "<lasagne.layers.conv.Conv2DLayer object at 0x1201455d0> (None, 32, 16, 16)\n",
      "<__main__.BinomialDropLayer object at 0x1201458d0> (None, 32, 16, 16)\n",
      "<lasagne.layers.merge.ElemwiseSumLayer object at 0x120145e10> (None, 32, 16, 16)\n",
      "<lasagne.layers.special.NonlinearityLayer object at 0x120145d50> (None, 32, 16, 16)\n",
      "<lasagne.layers.conv.Conv2DLayer object at 0x120145b10> (None, 32, 16, 16)\n",
      "<lasagne.layers.conv.Conv2DLayer object at 0x120145dd0> (None, 32, 16, 16)\n",
      "<__main__.BinomialDropLayer object at 0x120145f90> (None, 32, 16, 16)\n",
      "<lasagne.layers.merge.ElemwiseSumLayer object at 0x120145150> (None, 32, 16, 16)\n",
      "<lasagne.layers.special.NonlinearityLayer object at 0x1201454d0> (None, 32, 16, 16)\n",
      "<lasagne.layers.conv.Conv2DLayer object at 0x120145590> (None, 32, 16, 16)\n",
      "<lasagne.layers.conv.Conv2DLayer object at 0x1201451d0> (None, 32, 16, 16)\n",
      "<__main__.BinomialDropLayer object at 0x1201452d0> (None, 32, 16, 16)\n",
      "<lasagne.layers.merge.ElemwiseSumLayer object at 0x12014e850> (None, 32, 16, 16)\n",
      "<lasagne.layers.special.NonlinearityLayer object at 0x12014e390> (None, 32, 16, 16)\n",
      "<lasagne.layers.conv.Conv2DLayer object at 0x12014e3d0> (None, 32, 16, 16)\n",
      "<lasagne.layers.conv.Conv2DLayer object at 0x12014e410> (None, 32, 16, 16)\n",
      "<__main__.BinomialDropLayer object at 0x12014e350> (None, 32, 16, 16)\n",
      "<lasagne.layers.merge.ElemwiseSumLayer object at 0x12014e7d0> (None, 32, 16, 16)\n",
      "<lasagne.layers.special.NonlinearityLayer object at 0x12014eb90> (None, 32, 16, 16)\n",
      "<lasagne.layers.conv.Conv2DLayer object at 0x12014ec50> (None, 32, 16, 16)\n",
      "<lasagne.layers.conv.Conv2DLayer object at 0x12014ed50> (None, 32, 16, 16)\n",
      "<__main__.BinomialDropLayer object at 0x12014ed10> (None, 32, 16, 16)\n",
      "<lasagne.layers.merge.ElemwiseSumLayer object at 0x12014e750> (None, 32, 16, 16)\n",
      "<lasagne.layers.special.NonlinearityLayer object at 0x12014e690> (None, 32, 16, 16)\n",
      "<lasagne.layers.conv.Conv2DLayer object at 0x12014e610> (None, 32, 16, 16)\n",
      "<lasagne.layers.conv.Conv2DLayer object at 0x12014e590> (None, 32, 16, 16)\n",
      "<__main__.BinomialDropLayer object at 0x12014e510> (None, 32, 16, 16)\n",
      "<lasagne.layers.merge.ElemwiseSumLayer object at 0x1204dae50> (None, 32, 16, 16)\n",
      "<lasagne.layers.special.NonlinearityLayer object at 0x1204daa90> (None, 32, 16, 16)\n",
      "<lasagne.layers.conv.Conv2DLayer object at 0x1204daad0> (None, 32, 16, 16)\n",
      "<lasagne.layers.conv.Conv2DLayer object at 0x1204dad90> (None, 32, 16, 16)\n",
      "<__main__.BinomialDropLayer object at 0x1204dab90> (None, 32, 16, 16)\n",
      "<lasagne.layers.merge.ElemwiseSumLayer object at 0x1204da910> (None, 32, 16, 16)\n",
      "<lasagne.layers.special.NonlinearityLayer object at 0x1204da890> (None, 32, 16, 16)\n",
      "<lasagne.layers.conv.Conv2DLayer object at 0x1204da750> (None, 32, 16, 16)\n",
      "<lasagne.layers.conv.Conv2DLayer object at 0x1204da8d0> (None, 32, 16, 16)\n",
      "<__main__.BinomialDropLayer object at 0x1204dad50> (None, 32, 16, 16)\n",
      "<lasagne.layers.merge.ElemwiseSumLayer object at 0x1204da250> (None, 32, 16, 16)\n",
      "<lasagne.layers.special.NonlinearityLayer object at 0x1204da4d0> (None, 32, 16, 16)\n",
      "<lasagne.layers.conv.Conv2DLayer object at 0x1204da150> (None, 32, 16, 16)\n",
      "<lasagne.layers.conv.Conv2DLayer object at 0x1204da190> (None, 32, 16, 16)\n",
      "<__main__.BinomialDropLayer object at 0x1204da1d0> (None, 32, 16, 16)\n",
      "<lasagne.layers.merge.ElemwiseSumLayer object at 0x1204db710> (None, 32, 16, 16)\n",
      "<lasagne.layers.special.NonlinearityLayer object at 0x1204db110> (None, 32, 16, 16)\n",
      "<lasagne.layers.conv.Conv2DLayer object at 0x1204db790> (None, 32, 16, 16)\n",
      "<lasagne.layers.conv.Conv2DLayer object at 0x1204db7d0> (None, 32, 16, 16)\n",
      "<__main__.BinomialDropLayer object at 0x1204db5d0> (None, 32, 16, 16)\n",
      "<lasagne.layers.merge.ElemwiseSumLayer object at 0x1204dbdd0> (None, 32, 16, 16)\n",
      "<lasagne.layers.special.NonlinearityLayer object at 0x1204dbb50> (None, 32, 16, 16)\n",
      "<lasagne.layers.conv.Conv2DLayer object at 0x1204dbc90> (None, 32, 16, 16)\n",
      "<lasagne.layers.conv.Conv2DLayer object at 0x1204dbbd0> (None, 32, 16, 16)\n",
      "<__main__.BinomialDropLayer object at 0x1204dbd90> (None, 32, 16, 16)\n",
      "<lasagne.layers.merge.ElemwiseSumLayer object at 0x1204db310> (None, 32, 16, 16)\n",
      "<lasagne.layers.special.NonlinearityLayer object at 0x1204db2d0> (None, 32, 16, 16)\n",
      "<lasagne.layers.conv.Conv2DLayer object at 0x1204db290> (None, 32, 16, 16)\n",
      "<lasagne.layers.conv.Conv2DLayer object at 0x1204db390> (None, 32, 16, 16)\n",
      "<__main__.BinomialDropLayer object at 0x1204db350> (None, 32, 16, 16)\n",
      "<lasagne.layers.merge.ElemwiseSumLayer object at 0x1204ff390> (None, 32, 16, 16)\n",
      "<lasagne.layers.special.NonlinearityLayer object at 0x1204ff910> (None, 32, 16, 16)\n",
      "<lasagne.layers.conv.Conv2DLayer object at 0x1204ff450> (None, 32, 16, 16)\n",
      "<lasagne.layers.conv.Conv2DLayer object at 0x1204ffe50> (None, 32, 16, 16)\n",
      "<__main__.BinomialDropLayer object at 0x1204ffd10> (None, 32, 16, 16)\n",
      "<lasagne.layers.merge.ElemwiseSumLayer object at 0x1204ff810> (None, 32, 16, 16)\n",
      "<lasagne.layers.special.NonlinearityLayer object at 0x1204ffad0> (None, 32, 16, 16)\n",
      "<lasagne.layers.conv.Conv2DLayer object at 0x1204ffa90> (None, 32, 16, 16)\n",
      "<lasagne.layers.conv.Conv2DLayer object at 0x1204ff710> (None, 32, 16, 16)\n",
      "<__main__.BinomialDropLayer object at 0x1204ffa50> (None, 32, 16, 16)\n",
      "<lasagne.layers.merge.ElemwiseSumLayer object at 0x1204ff210> (None, 32, 16, 16)\n",
      "<lasagne.layers.special.NonlinearityLayer object at 0x1204ff490> (None, 32, 16, 16)\n",
      "<lasagne.layers.conv.Conv2DLayer object at 0x1204ff4d0> (None, 32, 16, 16)\n",
      "<lasagne.layers.conv.Conv2DLayer object at 0x1204ff150> (None, 32, 16, 16)\n",
      "<__main__.BinomialDropLayer object at 0x1204ff1d0> (None, 32, 16, 16)\n",
      "<lasagne.layers.merge.ElemwiseSumLayer object at 0x1204f5b50> (None, 32, 16, 16)\n",
      "<lasagne.layers.special.NonlinearityLayer object at 0x1204f5c50> (None, 32, 16, 16)\n",
      "<lasagne.layers.conv.Conv2DLayer object at 0x1204f54d0> (None, 32, 16, 16)\n",
      "<lasagne.layers.conv.Conv2DLayer object at 0x1204f5050> (None, 32, 16, 16)\n",
      "<__main__.BinomialDropLayer object at 0x1204f5e10> (None, 32, 16, 16)\n",
      "<lasagne.layers.merge.ElemwiseSumLayer object at 0x1204f5790> (None, 32, 16, 16)\n",
      "<lasagne.layers.special.NonlinearityLayer object at 0x1204f5810> (None, 32, 16, 16)\n",
      "<lasagne.layers.conv.Conv2DLayer object at 0x1204f5850> (None, 32, 16, 16)\n",
      "<lasagne.layers.conv.Conv2DLayer object at 0x1204f5750> (None, 32, 16, 16)\n",
      "<__main__.BinomialDropLayer object at 0x1204f5a10> (None, 32, 16, 16)\n",
      "<lasagne.layers.merge.ElemwiseSumLayer object at 0x1204f5250> (None, 32, 16, 16)\n",
      "<lasagne.layers.special.NonlinearityLayer object at 0x1204f5290> (None, 32, 16, 16)\n",
      "<lasagne.layers.conv.Conv2DLayer object at 0x1204f5150> (None, 64, 8, 8)\n",
      "<lasagne.layers.conv.Conv2DLayer object at 0x1204f5210> (None, 64, 8, 8)\n",
      "<__main__.BinomialDropLayer object at 0x1204f5190> (None, 64, 8, 8)\n",
      "<lasagne.layers.pool.Pool2DLayer object at 0x120160650> (None, 32, 8, 8)\n",
      "<lasagne.layers.shape.PadLayer object at 0x1204f51d0> (None, 64, 8, 8)\n",
      "<lasagne.layers.merge.ElemwiseSumLayer object at 0x124db5ed0> (None, 64, 8, 8)\n",
      "<lasagne.layers.special.NonlinearityLayer object at 0x124db5f90> (None, 64, 8, 8)\n",
      "<lasagne.layers.conv.Conv2DLayer object at 0x124db5f10> (None, 64, 8, 8)\n",
      "<lasagne.layers.conv.Conv2DLayer object at 0x124db5b10> (None, 64, 8, 8)\n",
      "<__main__.BinomialDropLayer object at 0x124db5e50> (None, 64, 8, 8)\n",
      "<lasagne.layers.merge.ElemwiseSumLayer object at 0x124db52d0> (None, 64, 8, 8)\n",
      "<lasagne.layers.special.NonlinearityLayer object at 0x124db5990> (None, 64, 8, 8)\n",
      "<lasagne.layers.conv.Conv2DLayer object at 0x124db5890> (None, 64, 8, 8)\n",
      "<lasagne.layers.conv.Conv2DLayer object at 0x124db59d0> (None, 64, 8, 8)\n",
      "<__main__.BinomialDropLayer object at 0x124db5a10> (None, 64, 8, 8)\n",
      "<lasagne.layers.merge.ElemwiseSumLayer object at 0x124db5210> (None, 64, 8, 8)\n",
      "<lasagne.layers.special.NonlinearityLayer object at 0x124db5150> (None, 64, 8, 8)\n",
      "<lasagne.layers.conv.Conv2DLayer object at 0x124db5090> (None, 64, 8, 8)\n",
      "<lasagne.layers.conv.Conv2DLayer object at 0x124db5050> (None, 64, 8, 8)\n",
      "<__main__.BinomialDropLayer object at 0x124db53d0> (None, 64, 8, 8)\n",
      "<lasagne.layers.merge.ElemwiseSumLayer object at 0x124db1bd0> (None, 64, 8, 8)\n",
      "<lasagne.layers.special.NonlinearityLayer object at 0x124db1d50> (None, 64, 8, 8)\n",
      "<lasagne.layers.conv.Conv2DLayer object at 0x124db1210> (None, 64, 8, 8)\n",
      "<lasagne.layers.conv.Conv2DLayer object at 0x124db1590> (None, 64, 8, 8)\n",
      "<__main__.BinomialDropLayer object at 0x124db1910> (None, 64, 8, 8)\n",
      "<lasagne.layers.merge.ElemwiseSumLayer object at 0x124db1550> (None, 64, 8, 8)\n",
      "<lasagne.layers.special.NonlinearityLayer object at 0x124db1f10> (None, 64, 8, 8)\n",
      "<lasagne.layers.conv.Conv2DLayer object at 0x124db1850> (None, 64, 8, 8)\n",
      "<lasagne.layers.conv.Conv2DLayer object at 0x124db1510> (None, 64, 8, 8)\n",
      "<__main__.BinomialDropLayer object at 0x124db1650> (None, 64, 8, 8)\n",
      "<lasagne.layers.merge.ElemwiseSumLayer object at 0x124db1250> (None, 64, 8, 8)\n",
      "<lasagne.layers.special.NonlinearityLayer object at 0x124db14d0> (None, 64, 8, 8)\n",
      "<lasagne.layers.conv.Conv2DLayer object at 0x124da0d50> (None, 64, 8, 8)\n",
      "<lasagne.layers.conv.Conv2DLayer object at 0x124da0cd0> (None, 64, 8, 8)\n",
      "<__main__.BinomialDropLayer object at 0x124db1490> (None, 64, 8, 8)\n",
      "<lasagne.layers.merge.ElemwiseSumLayer object at 0x124da0850> (None, 64, 8, 8)\n",
      "<lasagne.layers.special.NonlinearityLayer object at 0x124da0bd0> (None, 64, 8, 8)\n",
      "<lasagne.layers.conv.Conv2DLayer object at 0x124da0e90> (None, 64, 8, 8)\n",
      "<lasagne.layers.conv.Conv2DLayer object at 0x124da0c50> (None, 64, 8, 8)\n",
      "<__main__.BinomialDropLayer object at 0x124da0350> (None, 64, 8, 8)\n",
      "<lasagne.layers.merge.ElemwiseSumLayer object at 0x124da08d0> (None, 64, 8, 8)\n",
      "<lasagne.layers.special.NonlinearityLayer object at 0x124da0490> (None, 64, 8, 8)\n",
      "<lasagne.layers.conv.Conv2DLayer object at 0x124da0750> (None, 64, 8, 8)\n",
      "<lasagne.layers.conv.Conv2DLayer object at 0x124da0890> (None, 64, 8, 8)\n",
      "<__main__.BinomialDropLayer object at 0x124da0710> (None, 64, 8, 8)\n",
      "<lasagne.layers.merge.ElemwiseSumLayer object at 0x124da00d0> (None, 64, 8, 8)\n",
      "<lasagne.layers.special.NonlinearityLayer object at 0x124d8ce10> (None, 64, 8, 8)\n",
      "<lasagne.layers.conv.Conv2DLayer object at 0x124d8ca90> (None, 64, 8, 8)\n",
      "<lasagne.layers.conv.Conv2DLayer object at 0x10473ab10> (None, 64, 8, 8)\n",
      "<__main__.BinomialDropLayer object at 0x1145df510> (None, 64, 8, 8)\n",
      "<lasagne.layers.merge.ElemwiseSumLayer object at 0x149638810> (None, 64, 8, 8)\n",
      "<lasagne.layers.special.NonlinearityLayer object at 0x149638610> (None, 64, 8, 8)\n",
      "<lasagne.layers.conv.Conv2DLayer object at 0x149a29150> (None, 64, 8, 8)\n",
      "<lasagne.layers.conv.Conv2DLayer object at 0x149a290d0> (None, 64, 8, 8)\n",
      "<__main__.BinomialDropLayer object at 0x149a291d0> (None, 64, 8, 8)\n",
      "<lasagne.layers.merge.ElemwiseSumLayer object at 0x147e24410> (None, 64, 8, 8)\n",
      "<lasagne.layers.special.NonlinearityLayer object at 0x147e24390> (None, 64, 8, 8)\n",
      "<lasagne.layers.conv.Conv2DLayer object at 0x1147026d0> (None, 64, 8, 8)\n",
      "<lasagne.layers.conv.Conv2DLayer object at 0x11470b9d0> (None, 64, 8, 8)\n",
      "<__main__.BinomialDropLayer object at 0x114702690> (None, 64, 8, 8)\n",
      "<lasagne.layers.merge.ElemwiseSumLayer object at 0x125a9dc50> (None, 64, 8, 8)\n",
      "<lasagne.layers.special.NonlinearityLayer object at 0x125a9df50> (None, 64, 8, 8)\n",
      "<lasagne.layers.conv.Conv2DLayer object at 0x125a9db50> (None, 64, 8, 8)\n",
      "<lasagne.layers.conv.Conv2DLayer object at 0x125a9dd90> (None, 64, 8, 8)\n",
      "<__main__.BinomialDropLayer object at 0x125a9dc90> (None, 64, 8, 8)\n",
      "<lasagne.layers.merge.ElemwiseSumLayer object at 0x114185290> (None, 64, 8, 8)\n",
      "<lasagne.layers.special.NonlinearityLayer object at 0x114185c10> (None, 64, 8, 8)\n",
      "<lasagne.layers.conv.Conv2DLayer object at 0x12758b690> (None, 64, 8, 8)\n",
      "<lasagne.layers.conv.Conv2DLayer object at 0x12758b590> (None, 64, 8, 8)\n",
      "<__main__.BinomialDropLayer object at 0x12758b110> (None, 64, 8, 8)\n",
      "<lasagne.layers.merge.ElemwiseSumLayer object at 0x12d30dc90> (None, 64, 8, 8)\n",
      "<lasagne.layers.special.NonlinearityLayer object at 0x12d30d590> (None, 64, 8, 8)\n",
      "<lasagne.layers.conv.Conv2DLayer object at 0x108d9bdd0> (None, 64, 8, 8)\n",
      "<lasagne.layers.conv.Conv2DLayer object at 0x108d9b750> (None, 64, 8, 8)\n",
      "<__main__.BinomialDropLayer object at 0x12d30d310> (None, 64, 8, 8)\n",
      "<lasagne.layers.merge.ElemwiseSumLayer object at 0x107a35450> (None, 64, 8, 8)\n",
      "<lasagne.layers.special.NonlinearityLayer object at 0x108960510> (None, 64, 8, 8)\n",
      "<lasagne.layers.conv.Conv2DLayer object at 0x108d0c810> (None, 64, 8, 8)\n",
      "<lasagne.layers.conv.Conv2DLayer object at 0x108d0c490> (None, 64, 8, 8)\n",
      "<__main__.BinomialDropLayer object at 0x108d0c850> (None, 64, 8, 8)\n",
      "<lasagne.layers.merge.ElemwiseSumLayer object at 0x108f20550> (None, 64, 8, 8)\n",
      "<lasagne.layers.special.NonlinearityLayer object at 0x108db90d0> (None, 64, 8, 8)\n",
      "<lasagne.layers.conv.Conv2DLayer object at 0x108db9d50> (None, 64, 8, 8)\n",
      "<lasagne.layers.conv.Conv2DLayer object at 0x108db9fd0> (None, 64, 8, 8)\n",
      "<__main__.BinomialDropLayer object at 0x108db92d0> (None, 64, 8, 8)\n",
      "<lasagne.layers.merge.ElemwiseSumLayer object at 0x14978b750> (None, 64, 8, 8)\n",
      "<lasagne.layers.special.NonlinearityLayer object at 0x14978b6d0> (None, 64, 8, 8)\n",
      "<lasagne.layers.conv.Conv2DLayer object at 0x14978b850> (None, 64, 8, 8)\n",
      "<lasagne.layers.conv.Conv2DLayer object at 0x14978be50> (None, 64, 8, 8)\n",
      "<__main__.BinomialDropLayer object at 0x14978b2d0> (None, 64, 8, 8)\n",
      "<lasagne.layers.merge.ElemwiseSumLayer object at 0x1088f1510> (None, 64, 8, 8)\n",
      "<lasagne.layers.special.NonlinearityLayer object at 0x124d8cdd0> (None, 64, 8, 8)\n",
      "<lasagne.layers.conv.Conv2DLayer object at 0x124d8cd10> (None, 64, 8, 8)\n",
      "<lasagne.layers.conv.Conv2DLayer object at 0x124d8ce50> (None, 64, 8, 8)\n",
      "<__main__.BinomialDropLayer object at 0x124d8cad0> (None, 64, 8, 8)\n",
      "<lasagne.layers.merge.ElemwiseSumLayer object at 0x124d8ccd0> (None, 64, 8, 8)\n",
      "<lasagne.layers.special.NonlinearityLayer object at 0x124d8cc10> (None, 64, 8, 8)\n",
      "<lasagne.layers.pool.Pool2DLayer object at 0x124db5f50> (None, 64, 1, 1)\n",
      "<lasagne.layers.dense.DenseLayer object at 0x108d9b4d0> (None, 10)\n"
     ]
    }
   ],
   "source": [
    "for layer in get_all_layers(layer):\n",
    "    print layer, layer.output_shape"
   ]
  },
  {
   "cell_type": "code",
   "execution_count": 14,
   "metadata": {
    "collapsed": false
   },
   "outputs": [],
   "source": [
    "cifar10_loader = imp.load_source(\"cifar10_loader\", \"../papers/deep_residual_learning/Deep_Residual_Learning_CIFAR-10.py\")"
   ]
  },
  {
   "cell_type": "code",
   "execution_count": 24,
   "metadata": {
    "collapsed": false
   },
   "outputs": [],
   "source": [
    "#curr_dir = os.getcwd()\n",
    "#os.chdir(\"../papers/deep_residual_learning/\")\n",
    "data = cifar10_loader.load_data()\n",
    "X_train_and_valid, y_train_and_valid, X_test, y_test = \\\n",
    "    data[\"X_train\"][0:50000], data[\"Y_train\"][0:50000], data[\"X_test\"], data[\"Y_test\"]\n",
    "#os.chdir(curr_dir)"
   ]
  },
  {
   "cell_type": "code",
   "execution_count": 26,
   "metadata": {
    "collapsed": false
   },
   "outputs": [
    {
     "name": "stderr",
     "output_type": "stream",
     "text": [
      "/anaconda/lib/python2.7/site-packages/ipykernel/__main__.py:1: VisibleDeprecationWarning: using a non-integer number instead of an integer will result in an error in the future\n",
      "  if __name__ == '__main__':\n",
      "/anaconda/lib/python2.7/site-packages/ipykernel/__main__.py:2: VisibleDeprecationWarning: using a non-integer number instead of an integer will result in an error in the future\n",
      "  from ipykernel import kernelapp as app\n",
      "/anaconda/lib/python2.7/site-packages/ipykernel/__main__.py:3: VisibleDeprecationWarning: using a non-integer number instead of an integer will result in an error in the future\n",
      "  app.launch_new_instance()\n",
      "/anaconda/lib/python2.7/site-packages/ipykernel/__main__.py:4: VisibleDeprecationWarning: using a non-integer number instead of an integer will result in an error in the future\n"
     ]
    }
   ],
   "source": [
    "X_train = X_train_and_valid[ 0 : 0.9*X_train_and_valid.shape[0] ]\n",
    "y_train = y_train_and_valid[ 0 : 0.9*y_train_and_valid.shape[0] ]\n",
    "X_valid = X_train_and_valid[ 0.9*X_train_and_valid.shape[0] :: ]\n",
    "y_valid = y_train_and_valid[ 0.9*y_train_and_valid.shape[0] :: ]"
   ]
  },
  {
   "cell_type": "code",
   "execution_count": 27,
   "metadata": {
    "collapsed": false
   },
   "outputs": [
    {
     "data": {
      "text/plain": [
       "(90000, 3, 32, 32)"
      ]
     },
     "execution_count": 27,
     "metadata": {},
     "output_type": "execute_result"
    }
   ],
   "source": [
    "X_train.shape"
   ]
  },
  {
   "cell_type": "code",
   "execution_count": 51,
   "metadata": {
    "collapsed": false
   },
   "outputs": [],
   "source": [
    "X = T.tensor4('X')\n",
    "y = T.ivector('y')\n",
    "\n",
    "net_out = get_output(l_out, X)\n",
    "net_out_det = get_output(l_out, X, deterministic=True)\n",
    "loss = categorical_crossentropy(net_out, y).mean()\n",
    "params = get_all_params(l_out, trainable=True)\n",
    "grads = T.grad(loss, params)\n",
    "updates = nesterov_momentum(grads, params, learning_rate=0.01, momentum=0.9)\n",
    "train_fn = theano.function(inputs=[X, y], outputs=loss, updates=updates)\n",
    "eval_fn = theano.function(inputs=[X, y], outputs=loss)\n",
    "preds_fn = theano.function(inputs=[X], outputs=net_out_det)"
   ]
  },
  {
   "cell_type": "code",
   "execution_count": 57,
   "metadata": {
    "collapsed": true
   },
   "outputs": [],
   "source": [
    "#X_train = X_train[0:10]\n",
    "#y_train = y_train[0:10]\n",
    "#X_valid = X_valid[0:10]\n",
    "#y_valid = y_valid[0:10]"
   ]
  },
  {
   "cell_type": "code",
   "execution_count": 56,
   "metadata": {
    "collapsed": false
   },
   "outputs": [
    {
     "name": "stdout",
     "output_type": "stream",
     "text": [
      "epoch,avg_train_loss,valid_loss,valid_acc,time\n",
      "1,nan,inf,0.200000,0.808203\n",
      "2,nan,inf,0.200000,0.669914\n",
      "3,nan,inf,0.200000,0.633933\n",
      "4,nan,inf,0.200000,0.646192\n",
      "5,nan,inf,0.200000,0.618688\n"
     ]
    },
    {
     "ename": "KeyboardInterrupt",
     "evalue": "",
     "output_type": "error",
     "traceback": [
      "\u001b[0;31m---------------------------------------------------------------------------\u001b[0m",
      "\u001b[0;31mKeyboardInterrupt\u001b[0m                         Traceback (most recent call last)",
      "\u001b[0;32m<ipython-input-56-119c179fa99e>\u001b[0m in \u001b[0;36m<module>\u001b[0;34m()\u001b[0m\n\u001b[1;32m      9\u001b[0m         \u001b[0mtrain_losses\u001b[0m\u001b[0;34m.\u001b[0m\u001b[0mappend\u001b[0m\u001b[0;34m(\u001b[0m \u001b[0mtrain_fn\u001b[0m\u001b[0;34m(\u001b[0m\u001b[0mX_train\u001b[0m\u001b[0;34m[\u001b[0m\u001b[0mb\u001b[0m\u001b[0;34m*\u001b[0m\u001b[0mbs\u001b[0m\u001b[0;34m:\u001b[0m\u001b[0;34m(\u001b[0m\u001b[0mb\u001b[0m\u001b[0;34m+\u001b[0m\u001b[0;36m1\u001b[0m\u001b[0;34m)\u001b[0m\u001b[0;34m*\u001b[0m\u001b[0mbs\u001b[0m\u001b[0;34m]\u001b[0m\u001b[0;34m,\u001b[0m \u001b[0my_train\u001b[0m\u001b[0;34m[\u001b[0m\u001b[0mb\u001b[0m\u001b[0;34m*\u001b[0m\u001b[0mbs\u001b[0m\u001b[0;34m:\u001b[0m\u001b[0;34m(\u001b[0m\u001b[0mb\u001b[0m\u001b[0;34m+\u001b[0m\u001b[0;36m1\u001b[0m\u001b[0;34m)\u001b[0m\u001b[0;34m*\u001b[0m\u001b[0mbs\u001b[0m\u001b[0;34m]\u001b[0m\u001b[0;34m)\u001b[0m \u001b[0;34m)\u001b[0m\u001b[0;34m\u001b[0m\u001b[0m\n\u001b[1;32m     10\u001b[0m     \u001b[0mvalid_loss\u001b[0m \u001b[0;34m=\u001b[0m \u001b[0meval_fn\u001b[0m\u001b[0;34m(\u001b[0m\u001b[0mX_valid\u001b[0m\u001b[0;34m,\u001b[0m \u001b[0my_valid\u001b[0m\u001b[0;34m)\u001b[0m\u001b[0;34m\u001b[0m\u001b[0m\n\u001b[0;32m---> 11\u001b[0;31m     \u001b[0mvalid_preds\u001b[0m \u001b[0;34m=\u001b[0m \u001b[0mnp\u001b[0m\u001b[0;34m.\u001b[0m\u001b[0margmax\u001b[0m\u001b[0;34m(\u001b[0m\u001b[0mpreds_fn\u001b[0m\u001b[0;34m(\u001b[0m\u001b[0mX_valid\u001b[0m\u001b[0;34m)\u001b[0m\u001b[0;34m,\u001b[0m\u001b[0maxis\u001b[0m\u001b[0;34m=\u001b[0m\u001b[0;36m1\u001b[0m\u001b[0;34m)\u001b[0m\u001b[0;34m\u001b[0m\u001b[0m\n\u001b[0m\u001b[1;32m     12\u001b[0m     \u001b[0mvalid_acc\u001b[0m \u001b[0;34m=\u001b[0m \u001b[0mnp\u001b[0m\u001b[0;34m.\u001b[0m\u001b[0msum\u001b[0m\u001b[0;34m(\u001b[0m\u001b[0mvalid_preds\u001b[0m \u001b[0;34m==\u001b[0m \u001b[0my_valid\u001b[0m\u001b[0;34m)\u001b[0m\u001b[0;34m*\u001b[0m\u001b[0;36m1.0\u001b[0m \u001b[0;34m/\u001b[0m \u001b[0mlen\u001b[0m\u001b[0;34m(\u001b[0m\u001b[0my_valid\u001b[0m\u001b[0;34m)\u001b[0m\u001b[0;34m\u001b[0m\u001b[0m\n\u001b[1;32m     13\u001b[0m     \u001b[0;32mprint\u001b[0m \u001b[0;34m\"%i,%f,%f,%f,%f\"\u001b[0m \u001b[0;34m%\u001b[0m \u001b[0;34m(\u001b[0m\u001b[0mepoch\u001b[0m\u001b[0;34m+\u001b[0m\u001b[0;36m1\u001b[0m\u001b[0;34m,\u001b[0m \u001b[0mnp\u001b[0m\u001b[0;34m.\u001b[0m\u001b[0mmean\u001b[0m\u001b[0;34m(\u001b[0m\u001b[0mtrain_losses\u001b[0m\u001b[0;34m)\u001b[0m\u001b[0;34m,\u001b[0m \u001b[0mvalid_loss\u001b[0m\u001b[0;34m,\u001b[0m \u001b[0mvalid_acc\u001b[0m\u001b[0;34m,\u001b[0m \u001b[0mtime\u001b[0m\u001b[0;34m(\u001b[0m\u001b[0;34m)\u001b[0m\u001b[0;34m-\u001b[0m\u001b[0mt0\u001b[0m\u001b[0;34m)\u001b[0m\u001b[0;34m\u001b[0m\u001b[0m\n",
      "\u001b[0;32m//anaconda/lib/python2.7/site-packages/Theano-0.8.0.dev0-py2.7.egg/theano/compile/function_module.pyc\u001b[0m in \u001b[0;36m__call__\u001b[0;34m(self, *args, **kwargs)\u001b[0m\n\u001b[1;32m    857\u001b[0m         \u001b[0mt0_fn\u001b[0m \u001b[0;34m=\u001b[0m \u001b[0mtime\u001b[0m\u001b[0;34m.\u001b[0m\u001b[0mtime\u001b[0m\u001b[0;34m(\u001b[0m\u001b[0;34m)\u001b[0m\u001b[0;34m\u001b[0m\u001b[0m\n\u001b[1;32m    858\u001b[0m         \u001b[0;32mtry\u001b[0m\u001b[0;34m:\u001b[0m\u001b[0;34m\u001b[0m\u001b[0m\n\u001b[0;32m--> 859\u001b[0;31m             \u001b[0moutputs\u001b[0m \u001b[0;34m=\u001b[0m \u001b[0mself\u001b[0m\u001b[0;34m.\u001b[0m\u001b[0mfn\u001b[0m\u001b[0;34m(\u001b[0m\u001b[0;34m)\u001b[0m\u001b[0;34m\u001b[0m\u001b[0m\n\u001b[0m\u001b[1;32m    860\u001b[0m         \u001b[0;32mexcept\u001b[0m \u001b[0mException\u001b[0m\u001b[0;34m:\u001b[0m\u001b[0;34m\u001b[0m\u001b[0m\n\u001b[1;32m    861\u001b[0m             \u001b[0;32mif\u001b[0m \u001b[0mhasattr\u001b[0m\u001b[0;34m(\u001b[0m\u001b[0mself\u001b[0m\u001b[0;34m.\u001b[0m\u001b[0mfn\u001b[0m\u001b[0;34m,\u001b[0m \u001b[0;34m'position_of_error'\u001b[0m\u001b[0;34m)\u001b[0m\u001b[0;34m:\u001b[0m\u001b[0;34m\u001b[0m\u001b[0m\n",
      "\u001b[0;32m//anaconda/lib/python2.7/site-packages/Theano-0.8.0.dev0-py2.7.egg/theano/gof/op.pyc\u001b[0m in \u001b[0;36mrval\u001b[0;34m(p, i, o, n)\u001b[0m\n\u001b[1;32m    905\u001b[0m         \u001b[0;32mif\u001b[0m \u001b[0mparams\u001b[0m \u001b[0;32mis\u001b[0m \u001b[0mgraph\u001b[0m\u001b[0;34m.\u001b[0m\u001b[0mNoParams\u001b[0m\u001b[0;34m:\u001b[0m\u001b[0;34m\u001b[0m\u001b[0m\n\u001b[1;32m    906\u001b[0m             \u001b[0;31m# default arguments are stored in the closure of `rval`\u001b[0m\u001b[0;34m\u001b[0m\u001b[0;34m\u001b[0m\u001b[0m\n\u001b[0;32m--> 907\u001b[0;31m             \u001b[0;32mdef\u001b[0m \u001b[0mrval\u001b[0m\u001b[0;34m(\u001b[0m\u001b[0mp\u001b[0m\u001b[0;34m=\u001b[0m\u001b[0mp\u001b[0m\u001b[0;34m,\u001b[0m \u001b[0mi\u001b[0m\u001b[0;34m=\u001b[0m\u001b[0mnode_input_storage\u001b[0m\u001b[0;34m,\u001b[0m \u001b[0mo\u001b[0m\u001b[0;34m=\u001b[0m\u001b[0mnode_output_storage\u001b[0m\u001b[0;34m,\u001b[0m \u001b[0mn\u001b[0m\u001b[0;34m=\u001b[0m\u001b[0mnode\u001b[0m\u001b[0;34m)\u001b[0m\u001b[0;34m:\u001b[0m\u001b[0;34m\u001b[0m\u001b[0m\n\u001b[0m\u001b[1;32m    908\u001b[0m                 \u001b[0mr\u001b[0m \u001b[0;34m=\u001b[0m \u001b[0mp\u001b[0m\u001b[0;34m(\u001b[0m\u001b[0mn\u001b[0m\u001b[0;34m,\u001b[0m \u001b[0;34m[\u001b[0m\u001b[0mx\u001b[0m\u001b[0;34m[\u001b[0m\u001b[0;36m0\u001b[0m\u001b[0;34m]\u001b[0m \u001b[0;32mfor\u001b[0m \u001b[0mx\u001b[0m \u001b[0;32min\u001b[0m \u001b[0mi\u001b[0m\u001b[0;34m]\u001b[0m\u001b[0;34m,\u001b[0m \u001b[0mo\u001b[0m\u001b[0;34m)\u001b[0m\u001b[0;34m\u001b[0m\u001b[0m\n\u001b[1;32m    909\u001b[0m                 \u001b[0;32mfor\u001b[0m \u001b[0mo\u001b[0m \u001b[0;32min\u001b[0m \u001b[0mnode\u001b[0m\u001b[0;34m.\u001b[0m\u001b[0moutputs\u001b[0m\u001b[0;34m:\u001b[0m\u001b[0;34m\u001b[0m\u001b[0m\n",
      "\u001b[0;31mKeyboardInterrupt\u001b[0m: "
     ]
    }
   ],
   "source": [
    "batch_size = 128\n",
    "n_batches = X_train.shape[0] // batch_size\n",
    "num_epochs = 10\n",
    "print \"epoch,avg_train_loss,valid_loss,valid_acc,time\"\n",
    "for epoch in range(0, num_epochs):\n",
    "    t0 = time()\n",
    "    train_losses = []\n",
    "    for b in range(0, n_batches):\n",
    "        train_losses.append( train_fn(X_train[b*bs:(b+1)*bs], y_train[b*bs:(b+1)*bs]) )\n",
    "    valid_loss = eval_fn(X_valid, y_valid)\n",
    "    valid_preds = np.argmax(preds_fn(X_valid),axis=1)\n",
    "    valid_acc = np.sum(valid_preds == y_valid)*1.0 / len(y_valid)\n",
    "    print \"%i,%f,%f,%f,%f\" % (epoch+1, np.mean(train_losses), valid_loss, valid_acc, time()-t0)"
   ]
  },
  {
   "cell_type": "code",
   "execution_count": null,
   "metadata": {
    "collapsed": true
   },
   "outputs": [],
   "source": []
  }
 ],
 "metadata": {
  "kernelspec": {
   "display_name": "Python 2",
   "language": "python",
   "name": "python2"
  },
  "language_info": {
   "codemirror_mode": {
    "name": "ipython",
    "version": 2
   },
   "file_extension": ".py",
   "mimetype": "text/x-python",
   "name": "python",
   "nbconvert_exporter": "python",
   "pygments_lexer": "ipython2",
   "version": "2.7.11"
  }
 },
 "nbformat": 4,
 "nbformat_minor": 0
}
