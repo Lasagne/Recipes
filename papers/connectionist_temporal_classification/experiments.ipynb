{
 "cells": [
  {
   "cell_type": "markdown",
   "metadata": {},
   "source": [
    "# Requirements\n",
    "\n",
    "Please download the timit dataset at http://academictorrents.com/details/34e2b78745138186976cbc27939b1b34d18bd5b3 and place the TIMIT.zip file next to this file.\n",
    "\n",
    "The following python packages are required:\n",
    "- lasagne\n",
    "- matplotlib\n",
    "- [sphfile](https://pypi.python.org/pypi/sphfile) (to read the sound files)\n",
    "- [python_speech_features](https://github.com/jameslyons/python_speech_features) (to generate mfcc features)"
   ]
  },
  {
   "cell_type": "code",
   "execution_count": null,
   "metadata": {},
   "outputs": [],
   "source": [
    "%load_ext autoreload\n",
    "%autoreload 2\n",
    "%matplotlib inline\n",
    "\n",
    "import os\n",
    "os.environ['THEANO_FLAGS'] = \"device=cpu\""
   ]
  },
  {
   "cell_type": "code",
   "execution_count": null,
   "metadata": {},
   "outputs": [],
   "source": [
    "import pickle as pkl\n",
    "import numpy as np\n",
    "from zipfile import ZipFile\n",
    "from sphfile import SPHFile\n",
    "from python_speech_features import mfcc\n",
    "import lasagne\n",
    "from lasagne.layers import InputLayer, GaussianNoiseLayer, LSTMLayer, DenseLayer, ConcatLayer, ReshapeLayer\n",
    "import theano\n",
    "import theano.tensor as T\n",
    "from theano.compile.nanguardmode import NanGuardMode\n",
    "import matplotlib.pyplot as plt\n",
    "from ctc import ctc_loss, log_softmax, insert_alternating_blanks, ctc_backward"
   ]
  },
  {
   "cell_type": "markdown",
   "metadata": {},
   "source": [
    "# Prepare dataset"
   ]
  },
  {
   "cell_type": "code",
   "execution_count": null,
   "metadata": {},
   "outputs": [],
   "source": [
    "if not os.path.isdir(\"data/lisa/data/timit/raw/TIMIT\"):\n",
    "    assert os.path.exists(\"TIMIT.zip\"), \"Missing data archive\"\n",
    "    with ZipFile(\"TIMIT.zip\", 'r') as f:\n",
    "        f.extractall(path=\".\")"
   ]
  },
  {
   "cell_type": "code",
   "execution_count": null,
   "metadata": {},
   "outputs": [],
   "source": [
    "files = []\n",
    "train_subset = []\n",
    "\n",
    "for dirpath, _, filenames in os.walk(\"data/lisa/data/timit/raw/TIMIT\"):\n",
    "    for f in filenames:\n",
    "        if f.endswith(\"WAV\"):\n",
    "            recording = SPHFile(dirpath + \"/\" + f).content\n",
    "            files.append(dirpath + \"/\" + f[:-4])\n",
    "            train_subset.append(dirpath[31:36] == \"TRAIN\")\n",
    "\n",
    "files = np.array(files)\n",
    "train_subset = np.array(train_subset, dtype=np.bool)"
   ]
  },
  {
   "cell_type": "markdown",
   "metadata": {},
   "source": [
    "# Preprocessing"
   ]
  },
  {
   "cell_type": "code",
   "execution_count": null,
   "metadata": {},
   "outputs": [],
   "source": [
    "if not os.path.exists(\"preprocessed_dataset.pkl\"):\n",
    "    features = []\n",
    "    labels = []\n",
    "\n",
    "    for f in files:\n",
    "        recording = SPHFile(f + \".WAV\")\n",
    "        signal = recording.content\n",
    "        samplerate = recording.format['sample_rate']\n",
    "\n",
    "        mfccfeats = mfcc(signal, samplerate=samplerate, winlen=0.01, winstep=0.005, \n",
    "                         numcep=13, nfilt=26, appendEnergy=True)\n",
    "        derivatives = np.concatenate([\n",
    "            mfccfeats[1, None] - mfccfeats[0, None],\n",
    "            .5 * mfccfeats[2:] - .5 * mfccfeats[0:-2],\n",
    "            mfccfeats[-1, None] - mfccfeats[-2, None]], axis=0)\n",
    "\n",
    "        features.append(np.concatenate([mfccfeats, derivatives], axis=1).astype(np.float32))\n",
    "\n",
    "        with open(f + \".PHN\") as phonem_file:\n",
    "            labels.append([l.split()[2] for l in phonem_file.readlines()])\n",
    "\n",
    "    m = np.mean(np.concatenate(features, axis=0))\n",
    "    s = np.std(np.concatenate(features, axis=0))\n",
    "\n",
    "    for i in range(len(features)):\n",
    "        features[i] = (features[i] - m) / s\n",
    "\n",
    "    vocabulary = set()\n",
    "    for lseq in labels:\n",
    "        vocabulary |= set(lseq)\n",
    "\n",
    "    vocabulary = list(vocabulary)\n",
    "    vocabulary[-1], vocabulary[vocabulary.index('h#')] = vocabulary[vocabulary.index('h#')], vocabulary[-1]\n",
    "\n",
    "    for i in range(len(labels)):\n",
    "        labels[i] = np.array([vocabulary.index(l) for l in labels[i]], dtype=np.int32)\n",
    "\n",
    "    blank = len(labels) - 1\n",
    "    \n",
    "    with open(\"preprocessed_dataset.pkl\", 'wb') as f:\n",
    "        pkl.dump((features, labels, vocabulary, blank), f, -1)\n",
    "\n",
    "\n",
    "with open(\"preprocessed_dataset.pkl\", 'rb') as f:\n",
    "    features, labels, vocabulary, blank = pkl.load(f)"
   ]
  },
  {
   "cell_type": "markdown",
   "metadata": {},
   "source": [
    "# Model"
   ]
  },
  {
   "cell_type": "code",
   "execution_count": null,
   "metadata": {},
   "outputs": [],
   "source": [
    "from theano.sandbox.rng_mrg import MRG_RandomStreams as RandomStreams\n",
    "\n",
    "class SmallGaussianNoiseLayer(lasagne.layers.Layer):\n",
    "    \"\"\"Gaussian noise layer (clipped for safety)\"\"\"\n",
    "    def __init__(self, incoming, sigma=0.1, **kwargs):\n",
    "        super(SmallGaussianNoiseLayer, self).__init__(incoming, **kwargs)\n",
    "        self._srng = RandomStreams(lasagne.random.get_rng().randint(1, 2147462579))\n",
    "        self.sigma = sigma\n",
    "\n",
    "    def get_output_for(self, input, deterministic=False, **kwargs):\n",
    "        if deterministic or self.sigma == 0:\n",
    "            return input\n",
    "        else:\n",
    "            noise = self._srng.normal(input.shape, avg=0.0, std=self.sigma)\n",
    "            return input + T.clip(noise, -3 * self.sigma, 3 * self.sigma)"
   ]
  },
  {
   "cell_type": "code",
   "execution_count": null,
   "metadata": {},
   "outputs": [],
   "source": [
    "l_in = InputLayer(shape=(None, 1557,  26))\n",
    "l_duration = InputLayer(input_var=T.ivector(name=\"duration\"), shape=(1,))\n",
    "l_mask = lasagne.layers.ExpressionLayer(l_duration, lambda d: T.arange(1557)[None, :] < d[:, None])\n",
    "l_noise = SmallGaussianNoiseLayer(l_in, sigma=0.6)\n",
    "l_fwlstm = LSTMLayer(\n",
    "    l_noise, 100, mask_input=l_mask)\n",
    "l_bwlstm = LSTMLayer(\n",
    "    l_noise, 100, mask_input=l_mask,\n",
    "    backwards=True)\n",
    "l_cat = ConcatLayer([l_fwlstm, l_bwlstm], axis=2)\n",
    "l_linout = DenseLayer(l_cat, len(vocabulary), nonlinearity=None, num_leading_axes=2)\n",
    "\n",
    "input_var = l_in.input_var\n",
    "duration_var = l_duration.input_var\n",
    "labels_var = T.imatrix()"
   ]
  },
  {
   "cell_type": "markdown",
   "metadata": {},
   "source": [
    "# Training"
   ]
  },
  {
   "cell_type": "code",
   "execution_count": null,
   "metadata": {},
   "outputs": [],
   "source": [
    "train_output = lasagne.layers.get_output(l_linout, deterministic=False).dimshuffle(1, 0, 2)\n",
    "\n",
    "loss = ctc_loss(\n",
    "    linout=train_output,\n",
    "    durations=duration_var,\n",
    "    labels=labels_var,\n",
    "    label_sizes=T.cast(T.reshape(labels_var.shape[1], (1,)), 'int32'),\n",
    "    blank=blank\n",
    ")\n",
    "\n",
    "params = lasagne.layers.get_all_params(l_linout, trainable=True)\n",
    "grads = theano.grad(loss.sum(), params)\n",
    "updates = lasagne.updates.nesterov_momentum(grads, params, learning_rate=1e-4)\n",
    "\n",
    "update_fn = theano.function(\n",
    "    [input_var, duration_var, labels_var], \n",
    "    loss, \n",
    "    updates=updates,\n",
    "    # mode=NanGuardMode(nan_is_error=True, inf_is_error=True, big_is_error=True),\n",
    "    )"
   ]
  },
  {
   "cell_type": "code",
   "execution_count": null,
   "metadata": {},
   "outputs": [],
   "source": [
    "params_history = []\n",
    "loss_history = []\n",
    "running_loss = None\n",
    "failed = []"
   ]
  },
  {
   "cell_type": "code",
   "execution_count": null,
   "metadata": {},
   "outputs": [],
   "source": [
    "for e in range(10):\n",
    "    for i in np.random.permutation(len(labels)):\n",
    "        f, l  = features[i][None, :, :], labels[i][None, 1:-1]\n",
    "        d = np.array([f.shape[1]], dtype=np.int32)\n",
    "        f = np.concatenate([f, np.zeros((1557 - f.shape[1], f.shape[2]), dtype=np.float32)[None, :, :]], axis=1)\n",
    "\n",
    "        batch_loss = float(update_fn(f, d, l))\n",
    "\n",
    "        if batch_loss > 10000 or np.isnan(batch_loss):\n",
    "            print(\"\\nskipped i = {} because loss was {}\".format(i, batch_loss))\n",
    "            raise RuntimeError()\n",
    "        else:\n",
    "            running_loss = batch_loss if running_loss is None else .99 * running_loss + .01 * batch_loss\n",
    "            print(\"\\r{:4d} loss = {:>5.0f} -> {:>5.0f}\".format(i, batch_loss, running_loss), end='', flush=True)\n",
    "\n",
    "        if i % 25:\n",
    "            params_history.append(lasagne.layers.get_all_param_values(l_linout))\n",
    "            loss_history.append(running_loss)\n",
    "\n",
    "    #         batch_loss = loss_fn(f, l)\n",
    "    #         if batch_loss > 5000:\n",
    "    #             print('loss = {:>5.0f} > 5000 at element {:d}'.format(batch_loss, i))\n",
    "    #             raise\n",
    "    #         else:"
   ]
  },
  {
   "cell_type": "code",
   "execution_count": null,
   "metadata": {},
   "outputs": [],
   "source": [
    "plt.plot(loss_history)\n",
    "plt.yscale('log')"
   ]
  },
  {
   "cell_type": "code",
   "execution_count": null,
   "metadata": {},
   "outputs": [],
   "source": [
    "np.argmin(loss_history[::25])"
   ]
  },
  {
   "cell_type": "code",
   "execution_count": null,
   "metadata": {},
   "outputs": [],
   "source": [
    "lasagne.layers.set_all_param_values(l_linout, params_history[6000//25])"
   ]
  },
  {
   "cell_type": "markdown",
   "metadata": {},
   "source": [
    "# Evaluate model"
   ]
  },
  {
   "cell_type": "code",
   "execution_count": null,
   "metadata": {},
   "outputs": [],
   "source": [
    "i = 0\n",
    "f, l  = features[i][None, :, :], labels[i][None, 1:-1]\n",
    "f = np.concatenate([f, np.zeros((1557 - f.shape[1], f.shape[2]), dtype=np.float32)[None, :, :]], axis=1)"
   ]
  },
  {
   "cell_type": "code",
   "execution_count": null,
   "metadata": {},
   "outputs": [],
   "source": [
    "blanked_labels = insert_alternating_blanks(labels_var, blank)\n",
    "not_repeated = T.neq(blanked_labels[:, 2:], blanked_labels[:, :-2])\n",
    "betas = ctc_backward(\n",
    "    log_softmax(T.unbroadcast(train_output.dimshuffle(1, 0, 2), 1)),\n",
    "    T.cast(T.reshape(train_output.shape[0], (1,)), 'int32'), \n",
    "    blanked_labels,\n",
    "    T.cast(T.reshape(labels_var.shape[1], (1,)), 'int32'),\n",
    "    not_repeated)\n",
    "test_output = lasagne.layers.get_output(l_linout, deterministic=True)\n",
    "\n",
    "loss_fn = theano.function([input_var, duration_var, labels_var], loss)\n",
    "beta_fn = theano.function([input_var, duration_var, labels_var], betas)\n",
    "grads_fn = theano.function([input_var, duration_var, labels_var], grads)\n",
    "predict_fn = theano.function([input_var, duration_var], T.exp(log_softmax(test_output[:, 0, :])))\n",
    "logits_fn = theano.function([input_var, duration_var], test_output)"
   ]
  },
  {
   "cell_type": "code",
   "execution_count": null,
   "metadata": {},
   "outputs": [],
   "source": [
    "logits = logits_fn(f, d)[0]"
   ]
  },
  {
   "cell_type": "code",
   "execution_count": null,
   "metadata": {},
   "outputs": [],
   "source": [
    "o = np.argsort(np.mean(logits[:, :60], axis=0))\n",
    "plt.figure(figsize=(10, 10))\n",
    "for c in o:\n",
    "    plt.plot(np.arange(len(logits)), logits[:, c])\n",
    "\n",
    "plt.plot(np.arange(len(logits)), logits[:, -1], linestyle=\":\")\n",
    "plt.legend([vocabulary[o_] for o_ in o] + [vocabulary[-1]], bbox_to_anchor=(.6, 0, 1, 1), ncol=5)\n",
    "plt.show()"
   ]
  },
  {
   "cell_type": "markdown",
   "metadata": {},
   "source": [
    "# beta"
   ]
  },
  {
   "cell_type": "code",
   "execution_count": null,
   "metadata": {},
   "outputs": [],
   "source": [
    "features[i].shape[0]"
   ]
  },
  {
   "cell_type": "code",
   "execution_count": null,
   "metadata": {},
   "outputs": [],
   "source": [
    "betas = ctc_backward(\n",
    "    log_softmax(train_output),\n",
    "    T.cast(T.reshape(train_output.shape[0], (1,)), 'int32'), \n",
    "    blanked_labels,\n",
    "    T.cast(T.reshape(labels_var.shape[1], (1,)), 'int32'),\n",
    "    not_repeated)\n",
    "beta_fn = theano.function([input_var, duration_var, labels_var], betas)\n",
    "\n",
    "b = beta_fn(f, d, l)\n",
    "\n",
    "plt.figure(figsize=(10, 6))\n",
    "plt.imshow(b[0:, 0, 0:], clim=(-5000, max(0, np.max(b))))\n",
    "plt.gca().set_aspect(0.1)\n",
    "plt.colorbar()\n",
    "plt.show()"
   ]
  },
  {
   "cell_type": "code",
   "execution_count": null,
   "metadata": {},
   "outputs": [],
   "source": [
    "p = lasagne.layers.get_all_param_values(l_linout, trainable=True)\n",
    "for p_ in p:\n",
    "    print((p_.min(), p_.max()))"
   ]
  },
  {
   "cell_type": "code",
   "execution_count": null,
   "metadata": {},
   "outputs": [],
   "source": [
    "g = theano.grad(loss.sum(), wrt=train_output).eval({\n",
    "    input_var: f,\n",
    "    duration_var: d,\n",
    "    labels_var: l\n",
    "})"
   ]
  },
  {
   "cell_type": "code",
   "execution_count": null,
   "metadata": {},
   "outputs": [],
   "source": [
    "plt.subplot(2, 1, 1)\n",
    "plt.bar(np.arange(len(vocabulary)), g[:, 0, np.concatenate((o, [60]))].mean(axis=0))\n",
    "plt.subplot(2, 1, 2)\n",
    "plt.plot(g[:, 0, :].mean(axis=1))"
   ]
  },
  {
   "cell_type": "code",
   "execution_count": null,
   "metadata": {},
   "outputs": [],
   "source": [
    "len(vocabulary)"
   ]
  },
  {
   "cell_type": "code",
   "execution_count": null,
   "metadata": {},
   "outputs": [],
   "source": [
    "def argmax_decode(preds):\n",
    "    decoded = [preds[0]]\n",
    "    for v in preds:\n",
    "        if v != decoded[-1]:\n",
    "            decoded.append(v)\n",
    "    \n",
    "    return np.array(decoded, dtype=np.int32)\n",
    "\n",
    "lbl_preds = argmax_decode(np.argmax(logits, axis=-1))\n",
    "lbl_tgt = labels[i]"
   ]
  },
  {
   "cell_type": "code",
   "execution_count": null,
   "metadata": {},
   "outputs": [],
   "source": []
  },
  {
   "cell_type": "code",
   "execution_count": null,
   "metadata": {},
   "outputs": [],
   "source": []
  },
  {
   "cell_type": "code",
   "execution_count": null,
   "metadata": {},
   "outputs": [],
   "source": []
  }
 ],
 "metadata": {
  "kernelspec": {
   "display_name": "Python 3",
   "language": "python",
   "name": "python3"
  },
  "language_info": {
   "codemirror_mode": {
    "name": "ipython",
    "version": 3
   },
   "file_extension": ".py",
   "mimetype": "text/x-python",
   "name": "python",
   "nbconvert_exporter": "python",
   "pygments_lexer": "ipython3",
   "version": "3.6.4"
  }
 },
 "nbformat": 4,
 "nbformat_minor": 2
}
