{
 "cells": [
  {
   "cell_type": "markdown",
   "metadata": {},
   "source": [
    "# Requirements\n",
    "\n",
    "Please download the timit dataset at http://academictorrents.com/details/34e2b78745138186976cbc27939b1b34d18bd5b3 and place the TIMIT.zip file next to this file.\n",
    "\n",
    "The following python packages are required:\n",
    "- lasagne\n",
    "- matplotlib\n",
    "- [sphfile](https://pypi.python.org/pypi/sphfile) (to read the sound files)\n",
    "- [python_speech_features](https://github.com/jameslyons/python_speech_features) (to generate mfcc features)"
   ]
  },
  {
   "cell_type": "code",
   "execution_count": null,
   "metadata": {},
   "outputs": [],
   "source": [
    "%load_ext autoreload\n",
    "% autoreload 2\n",
    "#%matplotlib inline\n",
    "# %env CUDA_VISIBLE_DEVICES=\"1\"\n",
    "from IPython.core.interactiveshell import InteractiveShell\n",
    "InteractiveShell.ast_node_interactivity = \"all\""
   ]
  },
  {
   "cell_type": "code",
   "execution_count": null,
   "metadata": {},
   "outputs": [],
   "source": [
    "import os\n",
    "import pickle as pkl\n",
    "import numpy as np\n",
    "import matplotlib.pyplot as plt\n",
    "from zipfile import ZipFile\n",
    "from sphfile import SPHFile\n",
    "from python_speech_features import mfcc\n",
    "import tensorflow as tf\n",
    "import keras as K\n",
    "from keras.models import Model\n",
    "from keras.layers import Input, Dense, LSTM, Concatenate, Layer"
   ]
  },
  {
   "cell_type": "markdown",
   "metadata": {},
   "source": [
    "# Prepare dataset"
   ]
  },
  {
   "cell_type": "code",
   "execution_count": null,
   "metadata": {},
   "outputs": [],
   "source": [
    "if not os.path.isdir(\"data/lisa/data/timit/raw/TIMIT\"):\n",
    "    assert os.path.exists(\"TIMIT.zip\"), \"Missing data archive\"\n",
    "    with ZipFile(\"TIMIT.zip\", 'r') as f:\n",
    "        f.extractall(path=\".\")"
   ]
  },
  {
   "cell_type": "code",
   "execution_count": null,
   "metadata": {},
   "outputs": [],
   "source": [
    "files = []\n",
    "train_subset = []\n",
    "\n",
    "for dirpath, _, filenames in os.walk(\"data/lisa/data/timit/raw/TIMIT\"):\n",
    "    for f in filenames:\n",
    "        if f.endswith(\"WAV\"):\n",
    "            recording = SPHFile(dirpath + \"/\" + f).content\n",
    "            files.append(dirpath + \"/\" + f[:-4])\n",
    "            train_subset.append(dirpath[31:36] == \"TRAIN\")\n",
    "\n",
    "files = np.array(files)\n",
    "train_subset = np.array(train_subset, dtype=np.bool)"
   ]
  },
  {
   "cell_type": "markdown",
   "metadata": {},
   "source": [
    "# Preprocessing"
   ]
  },
  {
   "cell_type": "code",
   "execution_count": null,
   "metadata": {},
   "outputs": [],
   "source": [
    "if not os.path.exists(\"preprocessed_dataset.pkl\"):\n",
    "    features = []\n",
    "    labels = []\n",
    "\n",
    "    for f in files:\n",
    "        recording = SPHFile(f + \".WAV\")\n",
    "        signal = recording.content\n",
    "        samplerate = recording.format['sample_rate']\n",
    "\n",
    "        mfccfeats = mfcc(signal, samplerate=samplerate, winlen=0.01, winstep=0.005, \n",
    "                         numcep=13, nfilt=26, appendEnergy=True)\n",
    "        derivatives = np.concatenate([\n",
    "            mfccfeats[1, None] - mfccfeats[0, None],\n",
    "            .5 * mfccfeats[2:] - .5 * mfccfeats[0:-2],\n",
    "            mfccfeats[-1, None] - mfccfeats[-2, None]], axis=0)\n",
    "\n",
    "        features.append(np.concatenate([mfccfeats, derivatives], axis=1).astype(np.float32))\n",
    "\n",
    "        with open(f + \".PHN\") as phonem_file:\n",
    "            labels.append([l.split()[2] for l in phonem_file.readlines()])\n",
    "\n",
    "    m = np.mean(np.concatenate(features, axis=0))\n",
    "    s = np.std(np.concatenate(features, axis=0))\n",
    "\n",
    "    for i in range(len(features)):\n",
    "        features[i] = (features[i] - m) / s\n",
    "\n",
    "    vocabulary = set()\n",
    "    for lseq in labels:\n",
    "        vocabulary |= set(lseq)\n",
    "\n",
    "    vocabulary = list(vocabulary)\n",
    "    vocabulary[-1], vocabulary[vocabulary.index('h#')] = vocabulary[vocabulary.index('h#')], vocabulary[-1]\n",
    "\n",
    "    for i in range(len(labels)):\n",
    "        labels[i] = np.array([vocabulary.index(l) for l in labels[i]], dtype=np.int32)\n",
    "\n",
    "    blank = 60\n",
    "    \n",
    "    with open(\"preprocessed_dataset.pkl\", 'wb') as f:\n",
    "        pkl.dump((features, labels, vocabulary, blank), f)\n",
    "\n",
    "\n",
    "with open(\"preprocessed_dataset.pkl\", 'rb') as f:\n",
    "    features, labels, vocabulary, blank = pkl.load(f)"
   ]
  },
  {
   "cell_type": "code",
   "execution_count": null,
   "metadata": {},
   "outputs": [],
   "source": [
    "plt.figure(figsize=(20, 9))\n",
    "plt.imshow(features[1].transpose(), clim=(-4, 4))\n",
    "plt.show()"
   ]
  },
  {
   "cell_type": "markdown",
   "metadata": {},
   "source": [
    "# Model"
   ]
  },
  {
   "cell_type": "code",
   "execution_count": null,
   "metadata": {},
   "outputs": [],
   "source": [
    "def zero_loss(y_true, y_pred):\n",
    "    return K.backend.zeros_like(y_pred)\n",
    "\n",
    "def dense_to_sparse(x):\n",
    "    idx = tf.where(tf.greater_equal(x, 0))\n",
    "    return tf.SparseTensor(idx, tf.gather_nd(x, idx), tf.shape(x, out_type=tf.int64))\n",
    "\n",
    "class CTCLossLayer(Layer):\n",
    "    def __init__(self, **kwargs):\n",
    "        super(CTCLossLayer, self).__init__(**kwargs)\n",
    "\n",
    "    def call(self, x, mask=None):\n",
    "        linout = x[0]\n",
    "        targets = x[1]\n",
    "        durations = x[2]\n",
    "        loss = tf.nn.ctc_loss(\n",
    "            dense_to_sparse(targets), linout,\n",
    "            sequence_length=durations[:, 0],\n",
    "            time_major=False)\n",
    "        self.add_loss(tf.reduce_sum(loss), x)\n",
    "        return loss\n",
    "\n",
    "    def compute_output_shape(self, input_shape):\n",
    "        return input_shape[0][0]\n",
    "\n",
    "a = Input(shape=(None, features[0].shape[1]), name=\"features\")\n",
    "targets = Input(shape=[None], dtype='int32', name=\"targets\")\n",
    "durations = Input(shape=[1], dtype='int32', name=\"durations\")\n",
    "b1 = LSTM(100, return_sequences=True)(a)\n",
    "b2 = LSTM(100, return_sequences=True, go_backwards=True)(a)\n",
    "c = Concatenate(axis=2)([b1, b2])\n",
    "d = Dense(len(vocabulary), activation=None)(c)\n",
    "l = CTCLossLayer()([d, targets, durations])\n",
    "model = Model(inputs=[a, targets, durations], outputs=[d, l])\n",
    "sgd = K.optimizers.SGD(lr=1e-4, momentum=0.9, nesterov=True)\n",
    "\n",
    "model.summary()\n",
    "\n",
    "model.compile(\n",
    "    target_tensors=[targets, targets], \n",
    "    loss=[zero_loss, zero_loss], \n",
    "    optimizer=sgd)"
   ]
  },
  {
   "cell_type": "markdown",
   "metadata": {},
   "source": [
    "# Training"
   ]
  },
  {
   "cell_type": "code",
   "execution_count": null,
   "metadata": {},
   "outputs": [],
   "source": [
    "# lasagne.layers.set_all_param_values(l_linout, params_backup[0])\n",
    "\n",
    "params_backup = []\n",
    "running_loss = None\n",
    "\n",
    "for i in np.random.permutation(len(labels))[:300]:\n",
    "    f, l  = features[i][None, :, :], labels[i][None, 1:-1]\n",
    "\n",
    "    batch_loss = model.train_on_batch(\n",
    "        x=[f, l, np.array([f.shape[1]], np.int32)],\n",
    "        y=[l, l])[0]\n",
    "\n",
    "    if batch_loss > 10000:\n",
    "        print(\"\\nskipped i = {}\".format(i))\n",
    "        continue\n",
    "    else:\n",
    "        running_loss = batch_loss if running_loss is None else .99 * running_loss + .01 * batch_loss\n",
    "        print(\"\\rloss = {:>5.0f}\".format(running_loss), end='', flush=True)"
   ]
  },
  {
   "cell_type": "markdown",
   "metadata": {},
   "source": [
    "# Evaluate model"
   ]
  },
  {
   "cell_type": "code",
   "execution_count": null,
   "metadata": {},
   "outputs": [],
   "source": [
    "def argmax_decode(preds):\n",
    "    decoded = [preds[0]]\n",
    "    for v in preds:\n",
    "        if v != decoded[-1]:\n",
    "            decoded.append(v)\n",
    "    \n",
    "    return np.array(decoded, dtype=np.int32)"
   ]
  },
  {
   "cell_type": "code",
   "execution_count": null,
   "metadata": {},
   "outputs": [],
   "source": [
    "features[i].shape"
   ]
  },
  {
   "cell_type": "code",
   "execution_count": null,
   "metadata": {},
   "outputs": [],
   "source": [
    "i = 0\n",
    "inputs = [features[i][None, :, :], labels[i][None, 1:-1], np.array([features[i].shape[0]], np.int32)]\n",
    "logits = model.predict(inputs)[0][0]\n",
    "# preds -= np.max(preds, axis=1, keepdims=True)\n",
    "# preds = np.exp(preds)\n",
    "# preds /= np.sum(preds, axis=1, keepdims=True)\n",
    "lbl_preds = argmax_decode(np.argmax(preds, axis=-1))"
   ]
  },
  {
   "cell_type": "code",
   "execution_count": null,
   "metadata": {},
   "outputs": [],
   "source": [
    "o = np.argsort(np.mean(logits[:, :60], axis=0))\n",
    "plt.figure(figsize=(10, 10))\n",
    "for c in o:\n",
    "    plt.plot(np.arange(len(logits)), logits[:, c]);\n",
    "\n",
    "plt.plot(np.arange(len(logits)), logits[:, -1], linestyle=\":\");\n",
    "plt.legend([vocabulary[o_] for o_ in o] + [vocabulary[-1]], bbox_to_anchor=(.6, 0, 1, 1), ncol=5)\n",
    "plt.show()"
   ]
  },
  {
   "cell_type": "code",
   "execution_count": null,
   "metadata": {},
   "outputs": [],
   "source": [
    "preds[:, -1]"
   ]
  },
  {
   "cell_type": "code",
   "execution_count": null,
   "metadata": {},
   "outputs": [],
   "source": [
    "model.layers[4].get_weights()"
   ]
  },
  {
   "cell_type": "code",
   "execution_count": null,
   "metadata": {},
   "outputs": [],
   "source": [
    "weights"
   ]
  },
  {
   "cell_type": "code",
   "execution_count": null,
   "metadata": {},
   "outputs": [],
   "source": []
  }
 ],
 "metadata": {
  "kernelspec": {
   "display_name": "Python 3",
   "language": "python",
   "name": "python3"
  },
  "language_info": {
   "codemirror_mode": {
    "name": "ipython",
    "version": 3
   },
   "file_extension": ".py",
   "mimetype": "text/x-python",
   "name": "python",
   "nbconvert_exporter": "python",
   "pygments_lexer": "ipython3",
   "version": "3.6.4"
  }
 },
 "nbformat": 4,
 "nbformat_minor": 2
}
